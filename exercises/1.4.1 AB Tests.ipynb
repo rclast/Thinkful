{
 "cells": [
  {
   "cell_type": "markdown",
   "metadata": {},
   "source": [
    "1. The sample will be randomly selected participants for a sleep study. We will randomly assign them into two groups, an A and B group. We will ensure that there are no variable differences between age, gender, and other factors between the two groups. The A group will receive the treatment, the B group will be our control. Our hypothesis is that the A group receiving the treatment will get better sleep than the B group. We will have participants all participate at the lab, and the key metric will be the nightly amount of REM sleep for two weeks while in the study. We will also keep track of total nightly hours of sleep, how often participants awake at night, and self-reported levels of restfulness each morning for the two weeks."
   ]
  },
  {
   "cell_type": "markdown",
   "metadata": {},
   "source": [
    "2. The compared samples will be Saturdays for three months. Every other Saturday employees will wear the new uniforms being tested (the A group) and the control will be the other Saturdays when the uniform remains the same (the B group). We will keep track of weather as a possible confounding factor in the sample of Saturdays. Our hypothesis will be that the gym will have more potential customers who come in convert to customers by signing up for gym memberships on days that the new uniform is being worn (A group) than on the control days (B group). We will keep track of potential customer sign up rate as the key metric. We will also keep track of overall gym traffic, how many potential customers come in each day, and how long current customers stay during these days."
   ]
  },
  {
   "cell_type": "markdown",
   "metadata": {},
   "source": [
    "3. The old site will be our control group (B group) that we will collect data on for a period of time. We will then roll out a beta version of the new site and collect data on that (A group) for the exact same amount of time. We will ensure that there are no confounding events such as holidays or other events that may make one time period busier than the other. Our hypothesis is that the A group, time with the new site, will create more revenue for the business. The key metric to gather will be total sales during each time period. We will also keep track of clickrate and other site traffic metrics."
   ]
  },
  {
   "cell_type": "markdown",
   "metadata": {},
   "source": [
    "4. The sample is everyone in your emailing list. You put them into an A group that will have PLEASE READ in the subject and B group that is your control group that receives no change. The two groups will be randomly selected. Your hypothesis is that group ! will be read more often. The key event to track is the rate at which the emails of the two groups get opened and read. You would also track the average time it takes for the emails to get opened. If there are any actions that need to be taken within the email, like links to click on etc, then you can track that as well."
   ]
  },
  {
   "cell_type": "code",
   "execution_count": null,
   "metadata": {},
   "outputs": [],
   "source": []
  }
 ],
 "metadata": {
  "kernelspec": {
   "display_name": "Python 3",
   "language": "python",
   "name": "python3"
  },
  "language_info": {
   "codemirror_mode": {
    "name": "ipython",
    "version": 3
   },
   "file_extension": ".py",
   "mimetype": "text/x-python",
   "name": "python",
   "nbconvert_exporter": "python",
   "pygments_lexer": "ipython3",
   "version": "3.7.1"
  }
 },
 "nbformat": 4,
 "nbformat_minor": 2
}
