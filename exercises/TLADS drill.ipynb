{
 "cells": [
  {
   "cell_type": "markdown",
   "metadata": {},
   "source": [
    "# TLADS Drill\n",
    "\n",
    "## ESS data categories\n",
    "\n",
    "cntry = categorical\n",
    "\n",
    "idno = ordinal continuous\n",
    "\n",
    "year = interval continuous\n",
    "\n",
    "tvtot = ratio continuous\n",
    "\n",
    "ppltrst = interval continuous\n",
    "\n",
    "pplfair = interval continuous\n",
    "\n",
    "pplhlp = interval continuous\n",
    "\n",
    "happy = interval continuous\n",
    "\n",
    "sclmeet = interval continuous\n",
    "\n",
    "sclact = interval continuous\n",
    "\n",
    "gndr = categorical\n",
    "\n",
    "agea = ratio continuous\n",
    "\n",
    "partner = categorical"
   ]
  }
 ],
 "metadata": {
  "kernelspec": {
   "display_name": "Python 3",
   "language": "python",
   "name": "python3"
  },
  "language_info": {
   "codemirror_mode": {
    "name": "ipython",
    "version": 3
   },
   "file_extension": ".py",
   "mimetype": "text/x-python",
   "name": "python",
   "nbconvert_exporter": "python",
   "pygments_lexer": "ipython3",
   "version": "3.7.1"
  }
 },
 "nbformat": 4,
 "nbformat_minor": 2
}
