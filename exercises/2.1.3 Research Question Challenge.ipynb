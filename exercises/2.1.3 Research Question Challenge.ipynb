{
 "cells": [
  {
   "cell_type": "markdown",
   "metadata": {},
   "source": [
    "# Research Questions- Good or Bad?\n",
    "\n",
    "## 1.\n",
    "\n",
    "What is the 1994 rate of juvenile delinquency in the U.S.?\n",
    "\n",
    "Bad- this is a fact that can be determined with simple math. \n",
    "\n",
    "REWRITTEN- What does juvenile delinquency in the U.S. project to be in 10 years?\n",
    "\n",
    "\n",
    "## 2.\n",
    "What can we do to reduce juvenile delinquency in the U.S.?\n",
    "\n",
    "Bad- Too vague, need a variable that affects juvenile delinquency that we want to investigate\n",
    "\n",
    "REWRITTEN- How does number of parents effect juvenile delinquency?\n",
    "\n",
    "## 3.\n",
    "Does education play a role in reducing juvenile delinquents' return to crime?\n",
    "\n",
    "Good- education is a variable that can be simulated and adjusted in a model to see its effect\n",
    "\n",
    "## 4.\n",
    "How many customers does AT&T currently serve in Washington, DC?\n",
    "\n",
    "\n",
    "\n",
    "## 5.\n",
    "What factors lead consumers to choose AT&T over other service providers?\n",
    "\n",
    "## 6.\n",
    "How can AT&T attract more customers?\n",
    "\n",
    "## 7.\n",
    "Why did the Challenger Shuttle explode?\n",
    "\n",
    "Bad- You need a variable that you are investigating\n",
    "\n",
    "REWRITTEN- What is the likelihood of a shuttle exploding again?\n",
    "\n",
    "## 8.\n",
    "Which genes are associated with increased risk of breast cancer?\n",
    "\n",
    "Good- looking for a specific variable\n",
    "\n",
    "## 9.\n",
    "Is it better to read to children at night or in the morning?\n",
    "\n",
    "Good- model can track one and report on a binary variable with data provided\n",
    "\n",
    "# 10.\n",
    "How does Google’s search algorithm work?"
   ]
  },
  {
   "cell_type": "code",
   "execution_count": null,
   "metadata": {},
   "outputs": [],
   "source": []
  }
 ],
 "metadata": {
  "kernelspec": {
   "display_name": "Python 3",
   "language": "python",
   "name": "python3"
  },
  "language_info": {
   "codemirror_mode": {
    "name": "ipython",
    "version": 3
   },
   "file_extension": ".py",
   "mimetype": "text/x-python",
   "name": "python",
   "nbconvert_exporter": "python",
   "pygments_lexer": "ipython3",
   "version": "3.7.1"
  }
 },
 "nbformat": 4,
 "nbformat_minor": 2
}
