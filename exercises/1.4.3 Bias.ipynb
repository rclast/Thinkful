{
 "cells": [
  {
   "cell_type": "markdown",
   "metadata": {},
   "source": [
    "1. This experiment has clear contextual bias because the season is different between these two month. In the Northern Hemisphere, February is still late winter and May is squarely in late spring/early summer when people are usually thinking about buying a bathing suit. The study will be skewed towards the sample in May. There is also the potential for assignment bias because no information was given in how the email would be split up or if it would even be sent to different sample groups. It should be sent to randomly selected groups that are similar in composition."
   ]
  },
  {
   "cell_type": "markdown",
   "metadata": {},
   "source": [
    "2. This scenario shows a sampling bias. The population who is going to a clinic for anxiety is self-selecting to be people who have anxiety. Its why they show up!"
   ]
  },
  {
   "cell_type": "markdown",
   "metadata": {},
   "source": [
    "3. Lets assume that the study is to see if a billboard ad campaign is effective at increasing website traffic for your company. But there could be contextual bias if the timing of your ad campaign coincides with some other event that would naturally increase traffic to your site- for example if it is Valentine's Day season and you are a candy shop, or if it is the beginning of summer and you are a pool repair service. There is the possibility of lurking variables in the context of the study that could explain for the increase in traffic that are not the billboard ad campaign."
   ]
  },
  {
   "cell_type": "markdown",
   "metadata": {},
   "source": [
    "4. In this example, the size of the sample may not be big enough yet. The concept of a loyalty program is that it gets customers to return to take advantage of the benefits. A week is probably not long enough to see if you are attracting customers who came once and learned about the program will come again. The type of increase you will likely see is gradual."
   ]
  }
 ],
 "metadata": {
  "kernelspec": {
   "display_name": "Python 3",
   "language": "python",
   "name": "python3"
  },
  "language_info": {
   "codemirror_mode": {
    "name": "ipython",
    "version": 3
   },
   "file_extension": ".py",
   "mimetype": "text/x-python",
   "name": "python",
   "nbconvert_exporter": "python",
   "pygments_lexer": "ipython3",
   "version": "3.7.1"
  }
 },
 "nbformat": 4,
 "nbformat_minor": 2
}
