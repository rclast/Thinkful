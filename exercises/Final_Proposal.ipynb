{
 "cells": [
  {
   "cell_type": "markdown",
   "metadata": {},
   "source": [
    "# Problem\n",
    "\n",
    "The problem I am going to work on is more of a set of questions:\n",
    "- In the NBA, can you predict when a player will not return to play another season?\n",
    "- What are the factors that are most predictive of a player playing in their last season?\n",
    "\n",
    "# Why is this Valuable?\n",
    "\n",
    "There are three generally three ways to think of players who do not return to the nba:\n",
    "- Young players who wash out after only a few seasons because they generally are not seen as developing and therefore do not receive new contract offers from any teams.\n",
    "- Experienced, veteran players who do not receive new contract offers because of some perceived decline in their play\n",
    "- Players who choose to retire\n",
    "\n",
    "There are three main parties that I see finding value in a model that can predict when a player is playing their last season:\n",
    "\n",
    "### Teams:\n",
    "In NBA team building, making sure that you are allocating resources within the salary cap to productive players is one of the greatest challenges. Oftentimes a team will give a large contract to a player that does not live up to the production expected of such a contract, thus hamstringing the salary space of a team. Finding players who will live up to, or even out-perform, their salary is a must in smart team building. Also, for a [variety of reasons](https://www.sbnation.com/2019/3/13/18261437/nba-trade-rumors-adam-silver-lebron-james-max-contract) surrounding the Collective Bargaining Agreement (CBA) between the team owners and the players' association, player contracts are getting shorter and player movement is therefore increasing. Teams therefore are making the decisions on who to give contracts to in summer free agency more often, with increasingly half the roster or more as free agents. This 2019 free agency period saw about 40% of the league sign new deals, meaning teams had to decide on almost half the league on what kind of deal to give to a player, and who to even give them to.\n",
    "\n",
    "With all that being said, a model that can use historial player data to predict when a player is probably playing their final season can help a team in two ways: 1) It is another tool in the toolbox to evaluate player performance -- if a player is likely playing their last season, that likely means they are not living up to their contract and should be a stay-away in upcoming free agency. 2) If the model assigns a player as likely playing their last season, but the teams' front office and scouts like some aspect of the player's game, this player could be a very cheap option to target in free agency as other teams are likely to pass up the player due to perceived deficiencies. \n",
    "\n",
    "### Player Agents:\n",
    "A model that can predict if a player is in their final season can be a warning signal to a player agent  and help them prepare their player for this in several ways. They can push for more playing time and opportunity for a young player who is being predicted to wash out of the league. They can explore opportunities to play overseas and attempt to procure lucrative contracts in international leagues in case a new contract doesn't come in the NBA. They can also engage the player with the model prediction and check whether retirement is something the player wants to do on their terms, rather than face the prospect of wanting to play and have no team want you in return, a potentially embarrassing position.\n",
    "\n",
    "### NBA Media and Consumers:\n",
    "The last party that I see gaining value from such a model is simply those who follow the NBA. Media companies who cover the NBA and monetize their coverage could use such a tool as another way to create content and therefore clicks/listens/views. NBA fans could also theoretically see which players are being projected to play their last season and try to find prop bets for a player to not return to the nba after this season. \n",
    "\n",
    "# Data Source\n",
    "I will be using data that was scraped from the website [basketball-reference.com](https://www.basketball-reference.com/) by Omri Goldstein and obtained through [kaggle](https://www.kaggle.com/drgilermo/nba-players-stats).\n",
    "\n",
    "As  player perforamnce data is something that can only be obtained in-season or after the season, and the NBA is currently in the offseason, I will be using historical data to train and test the model.\n",
    "\n",
    "# Techniques\n",
    "I plan to use a wide array of modeling techniques, and put into final use that which performs best. I will try supervised techniques such as random forest, gradient boosting, SVM, and Regression, as well as neural networks through Keras. My hope is that a Keras neural network will have the best performance. \n",
    "\n",
    "# Potential Challenges\n",
    "The challenges that I predict needing to deal with are feature engineering and class imbalance. I believe that it will take quite a bit of feature engineering and selection to optimize my models to perform at acceptable levels as the data could be very noisy. I also believe that class imbalance will be something to look out for, as more player seasons in the data will be for players that return for another year. I will need to carefully combat this with oversampling and other methods to fight class imbalance."
   ]
  }
 ],
 "metadata": {
  "kernelspec": {
   "display_name": "Python 3",
   "language": "python",
   "name": "python3"
  },
  "language_info": {
   "codemirror_mode": {
    "name": "ipython",
    "version": 3
   },
   "file_extension": ".py",
   "mimetype": "text/x-python",
   "name": "python",
   "nbconvert_exporter": "python",
   "pygments_lexer": "ipython3",
   "version": "3.7.3"
  }
 },
 "nbformat": 4,
 "nbformat_minor": 2
}
