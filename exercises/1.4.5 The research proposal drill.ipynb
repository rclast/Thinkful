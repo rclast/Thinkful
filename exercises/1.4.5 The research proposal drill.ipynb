{
 "cells": [
  {
   "cell_type": "markdown",
   "metadata": {},
   "source": [
    "# The Problem\n",
    "\n",
    "The Empire is concerned that their current recruiting slogan \"Give in to your anger\" isn't effective at inspiring people to recruit to join the armed forces. The empire wants more willing recruits to join their armed forces."
   ]
  },
  {
   "cell_type": "markdown",
   "metadata": {},
   "source": [
    "# The Potential Solution\n",
    "\n",
    "A new slogan, \"Together we can rule the galaxy,\" could be more effective at inspiring recruits to join the armed forced"
   ]
  },
  {
   "cell_type": "markdown",
   "metadata": {},
   "source": [
    "# The Method of Testing the Solution\n",
    "\n",
    "We will determine ten worlds that we will study that are representative of the target population of the galaxy. Each world will then randomly have locations put into one of two groups. One group of locations will get the old slogan, the other group will get the new slogan. This is an A/B comparison experiment.\n",
    "\n",
    "We will determine the average monthly recruiting numbers on each planet and each of our chosen locations from the previous year. Average monthly recruiting numbers will then be computed in our A/B groups for the span of 4 months. \n",
    "\n",
    "If the average monthly recruiting numbers are 15% better for the new slogan as compared to the old slogan, we will adopt the old slogan. If there is less than a 15% improvement, we will continue the study for an additional 2 months and compute the improvement again. If there is no change, we will not adopt the new slogan."
   ]
  }
 ],
 "metadata": {
  "kernelspec": {
   "display_name": "Python 3",
   "language": "python",
   "name": "python3"
  },
  "language_info": {
   "codemirror_mode": {
    "name": "ipython",
    "version": 3
   },
   "file_extension": ".py",
   "mimetype": "text/x-python",
   "name": "python",
   "nbconvert_exporter": "python",
   "pygments_lexer": "ipython3",
   "version": "3.7.1"
  }
 },
 "nbformat": 4,
 "nbformat_minor": 2
}
