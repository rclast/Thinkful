{
 "cells": [
  {
   "cell_type": "markdown",
   "metadata": {},
   "source": [
    "1. There are multiple flaws in this experiment. First of all, the sample is not similar to the population. In Star Wars, droids in general don't have autonomy like organic beings do. The sample should be taken at random from the various alien species that the Empire is concerned with targeting. There must be random assignment when taking this new sample and assigning them to two test groups. There was also contextual error and observer bias in the way it was carried out. To fix the latter, the test between the two slogans should be delivered without the sample subjects interacting with Empire officials, or at least as little as possible. Definitely not Darth Vader and Emperor Palpatine. Their mere presence could be confounding variables. The slogan could be delivered merely as a poster advertisement or video/hologram message. To fix the former bias, the context must be exactly the same between the test groups. So if it is a poster that is made with the slogans, they should be identical except for the words and they should be viewed for the exact same time."
   ]
  },
  {
   "cell_type": "markdown",
   "metadata": {},
   "source": [
    "2. This scenario  has both sampling and selection bias. Jar Jar was sent to only the friendly planets and Mace Windu was sent to only the unfriendly planets. There needs to be a more clear sample created based on what the population of concern is. If the Jedi are concerned in only the populations of unfriendly planets, then I would send the two representatives each to portions of the the populations of each of the four infriendly planets. So Jar Jar and Mace would each visit different parts of each unfriendly planet. To address selection bias, they would be sent to random points across these four planets, ensuring that they do not overlap. We can keep track of population demographics of each representative's sample group to ensure that they are roughly equal and that there are no lurking variables. Ensuring that the selection process is unbiased would also help avoid the Simpson's Paradox that occurred in the original version."
   ]
  },
  {
   "cell_type": "markdown",
   "metadata": {},
   "source": [
    "3. There is selection bias present in this scenario. Simpson's Paradox is possible to occcur if the three counties where most HR employees are located have drastically different rates of company satisfaction than the other two counties. I would fix this by regularizing the sample of IT employees to reflect the distribution of employees per county that the HR employee sample has."
   ]
  },
  {
   "cell_type": "markdown",
   "metadata": {},
   "source": [
    "4. There is sampling bias in the data here. People are likely more willing to opt in to the data tracking if they are already fitness minded people. Data needs to be collected on all users. Perhaps make opting in required to use the app."
   ]
  },
  {
   "cell_type": "markdown",
   "metadata": {},
   "source": [
    "5. There is selection bias in this test scenario because students were not randomly given the tests. It is possible that students are grouped with friend groups with similar abilities, and these groups would arrive at the same time to class. Also, students who dislike school often come late to class. There are too many lurking variables in the way this study was selected. The tests need to be completely randomly handed out if you want to draw inferences about the tests."
   ]
  }
 ],
 "metadata": {
  "kernelspec": {
   "display_name": "Python 3",
   "language": "python",
   "name": "python3"
  },
  "language_info": {
   "codemirror_mode": {
    "name": "ipython",
    "version": 3
   },
   "file_extension": ".py",
   "mimetype": "text/x-python",
   "name": "python",
   "nbconvert_exporter": "python",
   "pygments_lexer": "ipython3",
   "version": "3.7.1"
  }
 },
 "nbformat": 4,
 "nbformat_minor": 2
}
