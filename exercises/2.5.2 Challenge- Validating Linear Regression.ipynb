{
 "cells": [
  {
   "cell_type": "code",
   "execution_count": 58,
   "metadata": {},
   "outputs": [],
   "source": [
    "%matplotlib inline\n",
    "import numpy as np\n",
    "import pandas as pd\n",
    "import matplotlib.pyplot as plt\n",
    "import seaborn as sns\n",
    "from sklearn import linear_model\n",
    "from sklearn import preprocessing\n",
    "import statsmodels.formula.api as smf\n",
    "from statsmodels.sandbox.regression.predstd import wls_prediction_std"
   ]
  },
  {
   "cell_type": "code",
   "execution_count": 2,
   "metadata": {},
   "outputs": [
    {
     "data": {
      "text/html": [
       "<div>\n",
       "<style scoped>\n",
       "    .dataframe tbody tr th:only-of-type {\n",
       "        vertical-align: middle;\n",
       "    }\n",
       "\n",
       "    .dataframe tbody tr th {\n",
       "        vertical-align: top;\n",
       "    }\n",
       "\n",
       "    .dataframe thead th {\n",
       "        text-align: right;\n",
       "    }\n",
       "</style>\n",
       "<table border=\"1\" class=\"dataframe\">\n",
       "  <thead>\n",
       "    <tr style=\"text-align: right;\">\n",
       "      <th></th>\n",
       "      <th>Population</th>\n",
       "      <th>Violent Crime</th>\n",
       "      <th>Murder</th>\n",
       "      <th>Rape 1</th>\n",
       "      <th>Rape 2</th>\n",
       "      <th>Robbery</th>\n",
       "      <th>Aggravated assault</th>\n",
       "      <th>Property_crime</th>\n",
       "      <th>Burglary</th>\n",
       "      <th>Larceny-theft</th>\n",
       "      <th>Motor vehicle theft</th>\n",
       "      <th>Arson</th>\n",
       "    </tr>\n",
       "    <tr>\n",
       "      <th>City</th>\n",
       "      <th></th>\n",
       "      <th></th>\n",
       "      <th></th>\n",
       "      <th></th>\n",
       "      <th></th>\n",
       "      <th></th>\n",
       "      <th></th>\n",
       "      <th></th>\n",
       "      <th></th>\n",
       "      <th></th>\n",
       "      <th></th>\n",
       "      <th></th>\n",
       "    </tr>\n",
       "  </thead>\n",
       "  <tbody>\n",
       "    <tr>\n",
       "      <th>City</th>\n",
       "      <td>Population</td>\n",
       "      <td>Violent\\ncrime</td>\n",
       "      <td>Murder and\\nnonnegligent\\nmanslaughter</td>\n",
       "      <td>Rape\\n(revised\\ndefinition)1</td>\n",
       "      <td>Rape\\n(legacy\\ndefinition)2</td>\n",
       "      <td>Robbery</td>\n",
       "      <td>Aggravated\\nassault</td>\n",
       "      <td>Property\\ncrime</td>\n",
       "      <td>Burglary</td>\n",
       "      <td>Larceny-\\ntheft</td>\n",
       "      <td>Motor\\nvehicle\\ntheft</td>\n",
       "      <td>Arson3</td>\n",
       "    </tr>\n",
       "    <tr>\n",
       "      <th>Adams Village</th>\n",
       "      <td>1,861</td>\n",
       "      <td>0</td>\n",
       "      <td>0</td>\n",
       "      <td>NaN</td>\n",
       "      <td>0</td>\n",
       "      <td>0</td>\n",
       "      <td>0</td>\n",
       "      <td>12</td>\n",
       "      <td>2</td>\n",
       "      <td>10</td>\n",
       "      <td>0</td>\n",
       "      <td>0</td>\n",
       "    </tr>\n",
       "    <tr>\n",
       "      <th>Addison Town and Village</th>\n",
       "      <td>2,577</td>\n",
       "      <td>3</td>\n",
       "      <td>0</td>\n",
       "      <td>NaN</td>\n",
       "      <td>0</td>\n",
       "      <td>0</td>\n",
       "      <td>3</td>\n",
       "      <td>24</td>\n",
       "      <td>3</td>\n",
       "      <td>20</td>\n",
       "      <td>1</td>\n",
       "      <td>0</td>\n",
       "    </tr>\n",
       "    <tr>\n",
       "      <th>Akron Village</th>\n",
       "      <td>2,846</td>\n",
       "      <td>3</td>\n",
       "      <td>0</td>\n",
       "      <td>NaN</td>\n",
       "      <td>0</td>\n",
       "      <td>0</td>\n",
       "      <td>3</td>\n",
       "      <td>16</td>\n",
       "      <td>1</td>\n",
       "      <td>15</td>\n",
       "      <td>0</td>\n",
       "      <td>0</td>\n",
       "    </tr>\n",
       "    <tr>\n",
       "      <th>Albany</th>\n",
       "      <td>97,956</td>\n",
       "      <td>791</td>\n",
       "      <td>8</td>\n",
       "      <td>NaN</td>\n",
       "      <td>30</td>\n",
       "      <td>227</td>\n",
       "      <td>526</td>\n",
       "      <td>4,090</td>\n",
       "      <td>705</td>\n",
       "      <td>3,243</td>\n",
       "      <td>142</td>\n",
       "      <td>NaN</td>\n",
       "    </tr>\n",
       "  </tbody>\n",
       "</table>\n",
       "</div>"
      ],
      "text/plain": [
       "                          Population   Violent Crime  \\\n",
       "City                                                   \n",
       "City                      Population  Violent\\ncrime   \n",
       "Adams Village                  1,861               0   \n",
       "Addison Town and Village       2,577               3   \n",
       "Akron Village                  2,846               3   \n",
       "Albany                        97,956             791   \n",
       "\n",
       "                                                          Murder  \\\n",
       "City                                                               \n",
       "City                      Murder and\\nnonnegligent\\nmanslaughter   \n",
       "Adams Village                                                  0   \n",
       "Addison Town and Village                                       0   \n",
       "Akron Village                                                  0   \n",
       "Albany                                                         8   \n",
       "\n",
       "                                                Rape 1  \\\n",
       "City                                                     \n",
       "City                      Rape\\n(revised\\ndefinition)1   \n",
       "Adams Village                                      NaN   \n",
       "Addison Town and Village                           NaN   \n",
       "Akron Village                                      NaN   \n",
       "Albany                                             NaN   \n",
       "\n",
       "                                               Rape 2  Robbery  \\\n",
       "City                                                             \n",
       "City                      Rape\\n(legacy\\ndefinition)2  Robbery   \n",
       "Adams Village                                       0        0   \n",
       "Addison Town and Village                            0        0   \n",
       "Akron Village                                       0        0   \n",
       "Albany                                             30      227   \n",
       "\n",
       "                           Aggravated assault   Property_crime  Burglary  \\\n",
       "City                                                                       \n",
       "City                      Aggravated\\nassault  Property\\ncrime  Burglary   \n",
       "Adams Village                               0               12         2   \n",
       "Addison Town and Village                    3               24         3   \n",
       "Akron Village                               3               16         1   \n",
       "Albany                                    526            4,090       705   \n",
       "\n",
       "                            Larceny-theft    Motor vehicle theft   Arson  \n",
       "City                                                                      \n",
       "City                      Larceny-\\ntheft  Motor\\nvehicle\\ntheft  Arson3  \n",
       "Adams Village                          10                      0       0  \n",
       "Addison Town and Village               20                      1       0  \n",
       "Akron Village                          15                      0       0  \n",
       "Albany                              3,243                    142     NaN  "
      ]
     },
     "execution_count": 2,
     "metadata": {},
     "output_type": "execute_result"
    }
   ],
   "source": [
    "# Create the dataframe, forcing the names of the rows and columns to make it easier to work with\n",
    "df = pd.read_csv('table_8_offenses_known_to_law_enforcement_new_york_by_city_2013.csv', \n",
    "                 index_col='City',\n",
    "                 names=['City', 'Population', 'Violent Crime', 'Murder', 'Rape 1', 'Rape 2',\n",
    "                       'Robbery', 'Aggravated assault', 'Property_crime', 'Burglary',\n",
    "                       'Larceny-theft', 'Motor vehicle theft', 'Arson']\n",
    "                )\n",
    "df.head()"
   ]
  },
  {
   "cell_type": "code",
   "execution_count": 3,
   "metadata": {},
   "outputs": [],
   "source": [
    "# Remove the columns we don't need and the excess first row\n",
    "df = df.drop(index='City',\n",
    "        columns=['Violent Crime', 'Rape 1', 'Rape 2', 'Aggravated assault', \n",
    "                'Burglary', 'Larceny-theft', 'Motor vehicle theft', 'Arson']\n",
    "       )"
   ]
  },
  {
   "cell_type": "code",
   "execution_count": 4,
   "metadata": {},
   "outputs": [
    {
     "data": {
      "text/html": [
       "<div>\n",
       "<style scoped>\n",
       "    .dataframe tbody tr th:only-of-type {\n",
       "        vertical-align: middle;\n",
       "    }\n",
       "\n",
       "    .dataframe tbody tr th {\n",
       "        vertical-align: top;\n",
       "    }\n",
       "\n",
       "    .dataframe thead th {\n",
       "        text-align: right;\n",
       "    }\n",
       "</style>\n",
       "<table border=\"1\" class=\"dataframe\">\n",
       "  <thead>\n",
       "    <tr style=\"text-align: right;\">\n",
       "      <th></th>\n",
       "      <th>Population</th>\n",
       "      <th>Murder</th>\n",
       "      <th>Robbery</th>\n",
       "      <th>Property_crime</th>\n",
       "    </tr>\n",
       "    <tr>\n",
       "      <th>City</th>\n",
       "      <th></th>\n",
       "      <th></th>\n",
       "      <th></th>\n",
       "      <th></th>\n",
       "    </tr>\n",
       "  </thead>\n",
       "  <tbody>\n",
       "    <tr>\n",
       "      <th>Adams Village</th>\n",
       "      <td>1861</td>\n",
       "      <td>0</td>\n",
       "      <td>0</td>\n",
       "      <td>12</td>\n",
       "    </tr>\n",
       "    <tr>\n",
       "      <th>Addison Town and Village</th>\n",
       "      <td>2577</td>\n",
       "      <td>0</td>\n",
       "      <td>0</td>\n",
       "      <td>24</td>\n",
       "    </tr>\n",
       "    <tr>\n",
       "      <th>Akron Village</th>\n",
       "      <td>2846</td>\n",
       "      <td>0</td>\n",
       "      <td>0</td>\n",
       "      <td>16</td>\n",
       "    </tr>\n",
       "    <tr>\n",
       "      <th>Albany</th>\n",
       "      <td>97956</td>\n",
       "      <td>8</td>\n",
       "      <td>227</td>\n",
       "      <td>4090</td>\n",
       "    </tr>\n",
       "    <tr>\n",
       "      <th>Albion Village</th>\n",
       "      <td>6388</td>\n",
       "      <td>0</td>\n",
       "      <td>4</td>\n",
       "      <td>223</td>\n",
       "    </tr>\n",
       "  </tbody>\n",
       "</table>\n",
       "</div>"
      ],
      "text/plain": [
       "                         Population Murder Robbery Property_crime\n",
       "City                                                             \n",
       "Adams Village                  1861      0       0             12\n",
       "Addison Town and Village       2577      0       0             24\n",
       "Akron Village                  2846      0       0             16\n",
       "Albany                        97956      8     227           4090\n",
       "Albion Village                 6388      0       4            223"
      ]
     },
     "execution_count": 4,
     "metadata": {},
     "output_type": "execute_result"
    }
   ],
   "source": [
    "# Remove the commas from the columns so that we can chance from strings to numbers\n",
    "df.Population = df.Population.str.replace(',', '')\n",
    "df.Murder = df.Murder.str.replace(',', '')\n",
    "df.Robbery = df.Robbery.str.replace(',', '')\n",
    "df.Property_crime = df.Property_crime.str.replace(',', '')\n",
    "df.head()"
   ]
  },
  {
   "cell_type": "code",
   "execution_count": 5,
   "metadata": {},
   "outputs": [
    {
     "data": {
      "text/html": [
       "<div>\n",
       "<style scoped>\n",
       "    .dataframe tbody tr th:only-of-type {\n",
       "        vertical-align: middle;\n",
       "    }\n",
       "\n",
       "    .dataframe tbody tr th {\n",
       "        vertical-align: top;\n",
       "    }\n",
       "\n",
       "    .dataframe thead th {\n",
       "        text-align: right;\n",
       "    }\n",
       "</style>\n",
       "<table border=\"1\" class=\"dataframe\">\n",
       "  <thead>\n",
       "    <tr style=\"text-align: right;\">\n",
       "      <th></th>\n",
       "      <th>Population</th>\n",
       "      <th>Murder</th>\n",
       "      <th>Robbery</th>\n",
       "      <th>Property_crime</th>\n",
       "    </tr>\n",
       "    <tr>\n",
       "      <th>City</th>\n",
       "      <th></th>\n",
       "      <th></th>\n",
       "      <th></th>\n",
       "      <th></th>\n",
       "    </tr>\n",
       "  </thead>\n",
       "  <tbody>\n",
       "    <tr>\n",
       "      <th>Adams Village</th>\n",
       "      <td>1861</td>\n",
       "      <td>0</td>\n",
       "      <td>0</td>\n",
       "      <td>12</td>\n",
       "    </tr>\n",
       "    <tr>\n",
       "      <th>Addison Town and Village</th>\n",
       "      <td>2577</td>\n",
       "      <td>0</td>\n",
       "      <td>0</td>\n",
       "      <td>24</td>\n",
       "    </tr>\n",
       "    <tr>\n",
       "      <th>Akron Village</th>\n",
       "      <td>2846</td>\n",
       "      <td>0</td>\n",
       "      <td>0</td>\n",
       "      <td>16</td>\n",
       "    </tr>\n",
       "    <tr>\n",
       "      <th>Albany</th>\n",
       "      <td>97956</td>\n",
       "      <td>8</td>\n",
       "      <td>227</td>\n",
       "      <td>4090</td>\n",
       "    </tr>\n",
       "    <tr>\n",
       "      <th>Albion Village</th>\n",
       "      <td>6388</td>\n",
       "      <td>0</td>\n",
       "      <td>4</td>\n",
       "      <td>223</td>\n",
       "    </tr>\n",
       "    <tr>\n",
       "      <th>Alfred Village</th>\n",
       "      <td>4089</td>\n",
       "      <td>0</td>\n",
       "      <td>3</td>\n",
       "      <td>46</td>\n",
       "    </tr>\n",
       "    <tr>\n",
       "      <th>Allegany Village</th>\n",
       "      <td>1781</td>\n",
       "      <td>0</td>\n",
       "      <td>0</td>\n",
       "      <td>10</td>\n",
       "    </tr>\n",
       "    <tr>\n",
       "      <th>Amherst Town</th>\n",
       "      <td>118296</td>\n",
       "      <td>1</td>\n",
       "      <td>31</td>\n",
       "      <td>2118</td>\n",
       "    </tr>\n",
       "    <tr>\n",
       "      <th>Amityville Village</th>\n",
       "      <td>9519</td>\n",
       "      <td>0</td>\n",
       "      <td>4</td>\n",
       "      <td>210</td>\n",
       "    </tr>\n",
       "    <tr>\n",
       "      <th>Amsterdam</th>\n",
       "      <td>18182</td>\n",
       "      <td>0</td>\n",
       "      <td>12</td>\n",
       "      <td>405</td>\n",
       "    </tr>\n",
       "  </tbody>\n",
       "</table>\n",
       "</div>"
      ],
      "text/plain": [
       "                          Population  Murder  Robbery  Property_crime\n",
       "City                                                                 \n",
       "Adams Village                   1861       0        0              12\n",
       "Addison Town and Village        2577       0        0              24\n",
       "Akron Village                   2846       0        0              16\n",
       "Albany                         97956       8      227            4090\n",
       "Albion Village                  6388       0        4             223\n",
       "Alfred Village                  4089       0        3              46\n",
       "Allegany Village                1781       0        0              10\n",
       "Amherst Town                  118296       1       31            2118\n",
       "Amityville Village              9519       0        4             210\n",
       "Amsterdam                      18182       0       12             405"
      ]
     },
     "execution_count": 5,
     "metadata": {},
     "output_type": "execute_result"
    }
   ],
   "source": [
    "# Change from strings to numbers\n",
    "df.Population = pd.to_numeric(df.Population, errors='coerce')\n",
    "df.Murder = pd.to_numeric(df.Murder, errors='coerce')\n",
    "df.Robbery = pd.to_numeric(df.Robbery, errors='coerce')\n",
    "df.Property_crime = pd.to_numeric(df.Property_crime, errors='coerce')\n",
    "df.head(10)"
   ]
  },
  {
   "cell_type": "code",
   "execution_count": 6,
   "metadata": {},
   "outputs": [
    {
     "name": "stderr",
     "output_type": "stream",
     "text": [
      "c:\\users\\ross last\\appdata\\local\\programs\\python\\python37-32\\lib\\site-packages\\scipy\\stats\\stats.py:1713: FutureWarning: Using a non-tuple sequence for multidimensional indexing is deprecated; use `arr[tuple(seq)]` instead of `arr[seq]`. In the future this will be interpreted as an array index, `arr[np.array(seq)]`, which will result either in an error or a different result.\n",
      "  return np.add.reduce(sorted[indexer] * weights, axis=axis) / sumval\n"
     ]
    },
    {
     "data": {
      "text/plain": [
       "<seaborn.axisgrid.FacetGrid at 0x1a921bb0>"
      ]
     },
     "execution_count": 6,
     "metadata": {},
     "output_type": "execute_result"
    },
    {
     "data": {
      "image/png": "[encoded data removed]",
      "text/plain": [
       "<Figure size 360x360 with 1 Axes>"
      ]
     },
     "metadata": {
      "needs_background": "light"
     },
     "output_type": "display_data"
    }
   ],
   "source": [
    "sns.lmplot(x='Property_crime', y='Population', data=df)"
   ]
  },
  {
   "cell_type": "code",
   "execution_count": 7,
   "metadata": {},
   "outputs": [
    {
     "data": {
      "text/plain": [
       "<seaborn.axisgrid.FacetGrid at 0x5674f30>"
      ]
     },
     "execution_count": 7,
     "metadata": {},
     "output_type": "execute_result"
    },
    {
     "data": {
      "image/png": "[encoded data removed]",
      "text/plain": [
       "<Figure size 360x360 with 1 Axes>"
      ]
     },
     "metadata": {
      "needs_background": "light"
     },
     "output_type": "display_data"
    }
   ],
   "source": [
    "# Try graphing again with New York, the outlier, removed\n",
    "sns.lmplot(x='Property_crime', y='Population', data=df.drop(index='New York'))"
   ]
  },
  {
   "cell_type": "code",
   "execution_count": 8,
   "metadata": {},
   "outputs": [],
   "source": [
    "# That is much more manageable, so we will make the dropping of New York permanent\n",
    "df = df.drop(index='New York')"
   ]
  },
  {
   "cell_type": "code",
   "execution_count": 9,
   "metadata": {},
   "outputs": [
    {
     "data": {
      "text/html": [
       "<div>\n",
       "<style scoped>\n",
       "    .dataframe tbody tr th:only-of-type {\n",
       "        vertical-align: middle;\n",
       "    }\n",
       "\n",
       "    .dataframe tbody tr th {\n",
       "        vertical-align: top;\n",
       "    }\n",
       "\n",
       "    .dataframe thead th {\n",
       "        text-align: right;\n",
       "    }\n",
       "</style>\n",
       "<table border=\"1\" class=\"dataframe\">\n",
       "  <thead>\n",
       "    <tr style=\"text-align: right;\">\n",
       "      <th></th>\n",
       "      <th>Population</th>\n",
       "      <th>Murder</th>\n",
       "      <th>Robbery</th>\n",
       "      <th>Property_crime</th>\n",
       "      <th>Population_squared</th>\n",
       "    </tr>\n",
       "    <tr>\n",
       "      <th>City</th>\n",
       "      <th></th>\n",
       "      <th></th>\n",
       "      <th></th>\n",
       "      <th></th>\n",
       "      <th></th>\n",
       "    </tr>\n",
       "  </thead>\n",
       "  <tbody>\n",
       "    <tr>\n",
       "      <th>Adams Village</th>\n",
       "      <td>1861</td>\n",
       "      <td>0</td>\n",
       "      <td>0</td>\n",
       "      <td>12</td>\n",
       "      <td>3463321</td>\n",
       "    </tr>\n",
       "    <tr>\n",
       "      <th>Addison Town and Village</th>\n",
       "      <td>2577</td>\n",
       "      <td>0</td>\n",
       "      <td>0</td>\n",
       "      <td>24</td>\n",
       "      <td>6640929</td>\n",
       "    </tr>\n",
       "    <tr>\n",
       "      <th>Akron Village</th>\n",
       "      <td>2846</td>\n",
       "      <td>0</td>\n",
       "      <td>0</td>\n",
       "      <td>16</td>\n",
       "      <td>8099716</td>\n",
       "    </tr>\n",
       "    <tr>\n",
       "      <th>Albany</th>\n",
       "      <td>97956</td>\n",
       "      <td>1</td>\n",
       "      <td>1</td>\n",
       "      <td>4090</td>\n",
       "      <td>9595377936</td>\n",
       "    </tr>\n",
       "    <tr>\n",
       "      <th>Albion Village</th>\n",
       "      <td>6388</td>\n",
       "      <td>0</td>\n",
       "      <td>1</td>\n",
       "      <td>223</td>\n",
       "      <td>40806544</td>\n",
       "    </tr>\n",
       "    <tr>\n",
       "      <th>Alfred Village</th>\n",
       "      <td>4089</td>\n",
       "      <td>0</td>\n",
       "      <td>1</td>\n",
       "      <td>46</td>\n",
       "      <td>16719921</td>\n",
       "    </tr>\n",
       "    <tr>\n",
       "      <th>Allegany Village</th>\n",
       "      <td>1781</td>\n",
       "      <td>0</td>\n",
       "      <td>0</td>\n",
       "      <td>10</td>\n",
       "      <td>3171961</td>\n",
       "    </tr>\n",
       "    <tr>\n",
       "      <th>Amherst Town</th>\n",
       "      <td>118296</td>\n",
       "      <td>1</td>\n",
       "      <td>1</td>\n",
       "      <td>2118</td>\n",
       "      <td>13993943616</td>\n",
       "    </tr>\n",
       "    <tr>\n",
       "      <th>Amityville Village</th>\n",
       "      <td>9519</td>\n",
       "      <td>0</td>\n",
       "      <td>1</td>\n",
       "      <td>210</td>\n",
       "      <td>90611361</td>\n",
       "    </tr>\n",
       "    <tr>\n",
       "      <th>Amsterdam</th>\n",
       "      <td>18182</td>\n",
       "      <td>0</td>\n",
       "      <td>1</td>\n",
       "      <td>405</td>\n",
       "      <td>330585124</td>\n",
       "    </tr>\n",
       "  </tbody>\n",
       "</table>\n",
       "</div>"
      ],
      "text/plain": [
       "                          Population  Murder  Robbery  Property_crime  \\\n",
       "City                                                                    \n",
       "Adams Village                   1861       0        0              12   \n",
       "Addison Town and Village        2577       0        0              24   \n",
       "Akron Village                   2846       0        0              16   \n",
       "Albany                         97956       1        1            4090   \n",
       "Albion Village                  6388       0        1             223   \n",
       "Alfred Village                  4089       0        1              46   \n",
       "Allegany Village                1781       0        0              10   \n",
       "Amherst Town                  118296       1        1            2118   \n",
       "Amityville Village              9519       0        1             210   \n",
       "Amsterdam                      18182       0        1             405   \n",
       "\n",
       "                          Population_squared  \n",
       "City                                          \n",
       "Adams Village                        3463321  \n",
       "Addison Town and Village             6640929  \n",
       "Akron Village                        8099716  \n",
       "Albany                            9595377936  \n",
       "Albion Village                      40806544  \n",
       "Alfred Village                      16719921  \n",
       "Allegany Village                     3171961  \n",
       "Amherst Town                     13993943616  \n",
       "Amityville Village                  90611361  \n",
       "Amsterdam                          330585124  "
      ]
     },
     "execution_count": 9,
     "metadata": {},
     "output_type": "execute_result"
    }
   ],
   "source": [
    "# Now that the data is sufficiently cleaned, I will create the Population-squared feature\n",
    "# and convert Murder and Robbery to categorical features with 0 or 1 values\n",
    "df['Population_squared'] = df['Population'] ** 2\n",
    "\n",
    "df['Murder'] = np.where(df['Murder']>0, 1, 0)\n",
    "df['Robbery'] = np.where(df['Robbery']>0, 1, 0)\n",
    "\n",
    "df.head(10)"
   ]
  },
  {
   "cell_type": "code",
   "execution_count": 10,
   "metadata": {},
   "outputs": [
    {
     "data": {
      "text/html": [
       "<div>\n",
       "<style scoped>\n",
       "    .dataframe tbody tr th:only-of-type {\n",
       "        vertical-align: middle;\n",
       "    }\n",
       "\n",
       "    .dataframe tbody tr th {\n",
       "        vertical-align: top;\n",
       "    }\n",
       "\n",
       "    .dataframe thead th {\n",
       "        text-align: right;\n",
       "    }\n",
       "</style>\n",
       "<table border=\"1\" class=\"dataframe\">\n",
       "  <thead>\n",
       "    <tr style=\"text-align: right;\">\n",
       "      <th></th>\n",
       "      <th>Population</th>\n",
       "      <th>Population_squared</th>\n",
       "      <th>Murder</th>\n",
       "      <th>Robbery</th>\n",
       "      <th>Property_crime</th>\n",
       "    </tr>\n",
       "    <tr>\n",
       "      <th>City</th>\n",
       "      <th></th>\n",
       "      <th></th>\n",
       "      <th></th>\n",
       "      <th></th>\n",
       "      <th></th>\n",
       "    </tr>\n",
       "  </thead>\n",
       "  <tbody>\n",
       "    <tr>\n",
       "      <th>Adams Village</th>\n",
       "      <td>1861</td>\n",
       "      <td>3463321</td>\n",
       "      <td>0</td>\n",
       "      <td>0</td>\n",
       "      <td>12</td>\n",
       "    </tr>\n",
       "    <tr>\n",
       "      <th>Addison Town and Village</th>\n",
       "      <td>2577</td>\n",
       "      <td>6640929</td>\n",
       "      <td>0</td>\n",
       "      <td>0</td>\n",
       "      <td>24</td>\n",
       "    </tr>\n",
       "    <tr>\n",
       "      <th>Akron Village</th>\n",
       "      <td>2846</td>\n",
       "      <td>8099716</td>\n",
       "      <td>0</td>\n",
       "      <td>0</td>\n",
       "      <td>16</td>\n",
       "    </tr>\n",
       "    <tr>\n",
       "      <th>Albany</th>\n",
       "      <td>97956</td>\n",
       "      <td>9595377936</td>\n",
       "      <td>1</td>\n",
       "      <td>1</td>\n",
       "      <td>4090</td>\n",
       "    </tr>\n",
       "    <tr>\n",
       "      <th>Albion Village</th>\n",
       "      <td>6388</td>\n",
       "      <td>40806544</td>\n",
       "      <td>0</td>\n",
       "      <td>1</td>\n",
       "      <td>223</td>\n",
       "    </tr>\n",
       "  </tbody>\n",
       "</table>\n",
       "</div>"
      ],
      "text/plain": [
       "                          Population  Population_squared  Murder  Robbery  \\\n",
       "City                                                                        \n",
       "Adams Village                   1861             3463321       0        0   \n",
       "Addison Town and Village        2577             6640929       0        0   \n",
       "Akron Village                   2846             8099716       0        0   \n",
       "Albany                         97956          9595377936       1        1   \n",
       "Albion Village                  6388            40806544       0        1   \n",
       "\n",
       "                          Property_crime  \n",
       "City                                      \n",
       "Adams Village                         12  \n",
       "Addison Town and Village              24  \n",
       "Akron Village                         16  \n",
       "Albany                              4090  \n",
       "Albion Village                       223  "
      ]
     },
     "execution_count": 10,
     "metadata": {},
     "output_type": "execute_result"
    }
   ],
   "source": [
    "# Finally, I will rearrange so that Population_squared is by population, and the target Property_crime is at the end\n",
    "df = df[['Population', 'Population_squared', 'Murder', 'Robbery', 'Property_crime']]\n",
    "df.head()"
   ]
  },
  {
   "cell_type": "code",
   "execution_count": 11,
   "metadata": {},
   "outputs": [
    {
     "name": "stdout",
     "output_type": "stream",
     "text": [
      "Coefficients: \n",
      " [1.29510871e-02 1.14920528e-07 1.95038666e+02 9.28205845e+01]\n",
      "\n",
      "Intercept: \n",
      " -16.815866321663066\n",
      "\n",
      "R-squared:\n",
      "0.8444937611173492\n"
     ]
    }
   ],
   "source": [
    "regr = linear_model.LinearRegression()\n",
    "Y = df.Property_crime\n",
    "X = df[['Population', 'Population_squared', 'Murder', 'Robbery']]\n",
    "regr.fit(X, Y)\n",
    "\n",
    "print('Coefficients: \\n', regr.coef_)\n",
    "print('\\nIntercept: \\n', regr.intercept_)\n",
    "print('\\nR-squared:')\n",
    "print(regr.score(X, Y))"
   ]
  },
  {
   "cell_type": "markdown",
   "metadata": {},
   "source": [
    "This is the model using the features I was asked to prepare previously. It seems that the presence of Murder and Robbery in a city have the most explanatory power in this model with very high numbers. Population, and even more, Population squared, do not seem to have as much affect on increasing property crime, but when you consider how large the population numbers are, it makes sense that the coefficient would be small. As long as it is a positive number, that means there is a correlated change. The R-squared value is .84, which seems to be a good high number without being too close to 1 and having overfitting problems.\n",
    "\n",
    "## Test statistics\n",
    "\n",
    "I will now run some test statistics on this original model. I will recreate this model in statsmodels for the ease of retrieving the the test statistics."
   ]
  },
  {
   "cell_type": "code",
   "execution_count": 12,
   "metadata": {},
   "outputs": [
    {
     "name": "stdout",
     "output_type": "stream",
     "text": [
      "                            OLS Regression Results                            \n",
      "==============================================================================\n",
      "Dep. Variable:         Property_crime   R-squared:                       0.844\n",
      "Model:                            OLS   Adj. R-squared:                  0.843\n",
      "Method:                 Least Squares   F-statistic:                     464.3\n",
      "Date:                Wed, 20 Mar 2019   Prob (F-statistic):          8.94e-137\n",
      "Time:                        13:45:49   Log-Likelihood:                -2577.7\n",
      "No. Observations:                 347   AIC:                             5165.\n",
      "Df Residuals:                     342   BIC:                             5185.\n",
      "Df Model:                           4                                         \n",
      "Covariance Type:            nonrobust                                         \n",
      "======================================================================================\n",
      "                         coef    std err          t      P>|t|      [0.025      0.975]\n",
      "--------------------------------------------------------------------------------------\n",
      "Intercept            -16.8159     36.019     -0.467      0.641     -87.663      54.031\n",
      "Population             0.0130      0.002      5.975      0.000       0.009       0.017\n",
      "Population_squared  1.149e-07   1.04e-08     11.053      0.000    9.45e-08    1.35e-07\n",
      "Murder               195.0387     76.642      2.545      0.011      44.290     345.788\n",
      "Robbery               92.8206     51.440      1.804      0.072      -8.358     193.999\n",
      "==============================================================================\n",
      "Omnibus:                      394.297   Durbin-Watson:                   1.943\n",
      "Prob(Omnibus):                  0.000   Jarque-Bera (JB):            73973.584\n",
      "Skew:                          -4.487   Prob(JB):                         0.00\n",
      "Kurtosis:                      73.963   Cond. No.                     1.80e+10\n",
      "==============================================================================\n",
      "\n",
      "Warnings:\n",
      "[1] Standard Errors assume that the covariance matrix of the errors is correctly specified.\n",
      "[2] The condition number is large, 1.8e+10. This might indicate that there are\n",
      "strong multicollinearity or other numerical problems.\n"
     ]
    }
   ],
   "source": [
    "linear_formula = 'Property_crime ~ Population + Population_squared + Murder + Robbery'\n",
    "\n",
    "lm = smf.ols(formula=linear_formula, data=df).fit()\n",
    "print(lm.summary())"
   ]
  },
  {
   "cell_type": "markdown",
   "metadata": {},
   "source": [
    "Two things to note. First, the p-value of the f-statistic is very small, 8.94e-137, so the model is statistically significant. I am going to do a more clear creation of the p-values of the parameters next, so I will address those in a moment. The second thing of note is the warning about multicollinearity. The p-value analysis I will do next will help determiner if I have unnecessary parameters."
   ]
  },
  {
   "cell_type": "code",
   "execution_count": 13,
   "metadata": {},
   "outputs": [
    {
     "data": {
      "text/plain": [
       "Intercept             6.408973e-01\n",
       "Population            5.765236e-09\n",
       "Population_squared    1.727610e-24\n",
       "Murder                1.137283e-02\n",
       "Robbery               7.204162e-02\n",
       "dtype: float64"
      ]
     },
     "execution_count": 13,
     "metadata": {},
     "output_type": "execute_result"
    }
   ],
   "source": [
    "lm.pvalues"
   ]
  },
  {
   "cell_type": "markdown",
   "metadata": {},
   "source": [
    "Those p-values are all small, except for the intercept. I am guessing that this means that there is variance in the outcome that my features have not yet explained. I will do holdout and cross validation to see how the model performs. I will return to the sklearn model for this analysis."
   ]
  },
  {
   "cell_type": "code",
   "execution_count": 15,
   "metadata": {},
   "outputs": [
    {
     "name": "stdout",
     "output_type": "stream",
     "text": [
      "With 20% Holdout: 0.7325731556330537\n"
     ]
    }
   ],
   "source": [
    "from sklearn.model_selection import train_test_split\n",
    "\n",
    "X_train, X_test, Y_train, Y_test = train_test_split(X, Y, test_size=0.2, random_state=20)\n",
    "print('With 20% Holdout: ' + str(regr.fit(X_train, Y_train).score(X_test, Y_test)))"
   ]
  },
  {
   "cell_type": "markdown",
   "metadata": {},
   "source": [
    "The $R^2$ value is down to .73 with a 20% holdout. Not a good sign to begin with. Let's do some cross validation to see how it performs."
   ]
  },
  {
   "cell_type": "code",
   "execution_count": 16,
   "metadata": {},
   "outputs": [
    {
     "data": {
      "text/plain": [
       "array([ 0.76250722,  0.93768963,  0.30362681,  0.82852633,  0.76061806,\n",
       "        0.79761976,  0.55797032,  0.9025888 ,  0.84926351, -1.60913862])"
      ]
     },
     "execution_count": 16,
     "metadata": {},
     "output_type": "execute_result"
    }
   ],
   "source": [
    "from sklearn.model_selection import cross_val_score\n",
    "cross_val_score(regr, X, Y, cv=10)"
   ]
  },
  {
   "cell_type": "markdown",
   "metadata": {},
   "source": [
    "That is a huge variance. I will run a cross validation with more folds just to see what that performance is like."
   ]
  },
  {
   "cell_type": "code",
   "execution_count": 17,
   "metadata": {},
   "outputs": [
    {
     "data": {
      "text/plain": [
       "array([ 0.78566843,  0.64687773,  0.94022192,  0.84262956,  0.94295722,\n",
       "        0.71163392,  0.12435034,  0.78575161,  0.48119665,  0.89242399,\n",
       "        0.86888393,  0.60491575,  0.19603182,  0.79633512,  0.87459932,\n",
       "        0.5201315 ,  0.02566318,  0.6222801 ,  0.93370041,  0.89691386,\n",
       "        0.76282896,  0.60701253,  0.82715031,  0.4804518 , -5.53855204])"
      ]
     },
     "execution_count": 17,
     "metadata": {},
     "output_type": "execute_result"
    }
   ],
   "source": [
    "cross_val_score(regr, X, Y, cv=25)"
   ]
  },
  {
   "cell_type": "markdown",
   "metadata": {},
   "source": [
    "The $R^2$ values are still all over the map. I clearly need to create better features. Let's start over with the data. I will perform some basic cleaning again, but I will leave all of the columns intact before deciding what to do with them.\n",
    "\n",
    "## New Model"
   ]
  },
  {
   "cell_type": "code",
   "execution_count": 55,
   "metadata": {},
   "outputs": [
    {
     "data": {
      "text/html": [
       "<div>\n",
       "<style scoped>\n",
       "    .dataframe tbody tr th:only-of-type {\n",
       "        vertical-align: middle;\n",
       "    }\n",
       "\n",
       "    .dataframe tbody tr th {\n",
       "        vertical-align: top;\n",
       "    }\n",
       "\n",
       "    .dataframe thead th {\n",
       "        text-align: right;\n",
       "    }\n",
       "</style>\n",
       "<table border=\"1\" class=\"dataframe\">\n",
       "  <thead>\n",
       "    <tr style=\"text-align: right;\">\n",
       "      <th></th>\n",
       "      <th>Population</th>\n",
       "      <th>Violent_crime</th>\n",
       "      <th>Murder</th>\n",
       "      <th>Rape_2</th>\n",
       "      <th>Robbery</th>\n",
       "      <th>Aggravated_assault</th>\n",
       "      <th>Property_crime</th>\n",
       "      <th>Burglary</th>\n",
       "      <th>Larceny_theft</th>\n",
       "      <th>Motor_vehicle_theft</th>\n",
       "    </tr>\n",
       "    <tr>\n",
       "      <th>City</th>\n",
       "      <th></th>\n",
       "      <th></th>\n",
       "      <th></th>\n",
       "      <th></th>\n",
       "      <th></th>\n",
       "      <th></th>\n",
       "      <th></th>\n",
       "      <th></th>\n",
       "      <th></th>\n",
       "      <th></th>\n",
       "    </tr>\n",
       "  </thead>\n",
       "  <tbody>\n",
       "    <tr>\n",
       "      <th>Adams Village</th>\n",
       "      <td>1861</td>\n",
       "      <td>0</td>\n",
       "      <td>0</td>\n",
       "      <td>0</td>\n",
       "      <td>0</td>\n",
       "      <td>0</td>\n",
       "      <td>12</td>\n",
       "      <td>2</td>\n",
       "      <td>10</td>\n",
       "      <td>0</td>\n",
       "    </tr>\n",
       "    <tr>\n",
       "      <th>Addison Town and Village</th>\n",
       "      <td>2577</td>\n",
       "      <td>3</td>\n",
       "      <td>0</td>\n",
       "      <td>0</td>\n",
       "      <td>0</td>\n",
       "      <td>3</td>\n",
       "      <td>24</td>\n",
       "      <td>3</td>\n",
       "      <td>20</td>\n",
       "      <td>1</td>\n",
       "    </tr>\n",
       "    <tr>\n",
       "      <th>Akron Village</th>\n",
       "      <td>2846</td>\n",
       "      <td>3</td>\n",
       "      <td>0</td>\n",
       "      <td>0</td>\n",
       "      <td>0</td>\n",
       "      <td>3</td>\n",
       "      <td>16</td>\n",
       "      <td>1</td>\n",
       "      <td>15</td>\n",
       "      <td>0</td>\n",
       "    </tr>\n",
       "    <tr>\n",
       "      <th>Albany</th>\n",
       "      <td>97956</td>\n",
       "      <td>791</td>\n",
       "      <td>8</td>\n",
       "      <td>30</td>\n",
       "      <td>227</td>\n",
       "      <td>526</td>\n",
       "      <td>4090</td>\n",
       "      <td>705</td>\n",
       "      <td>3243</td>\n",
       "      <td>142</td>\n",
       "    </tr>\n",
       "    <tr>\n",
       "      <th>Albion Village</th>\n",
       "      <td>6388</td>\n",
       "      <td>23</td>\n",
       "      <td>0</td>\n",
       "      <td>3</td>\n",
       "      <td>4</td>\n",
       "      <td>16</td>\n",
       "      <td>223</td>\n",
       "      <td>53</td>\n",
       "      <td>165</td>\n",
       "      <td>5</td>\n",
       "    </tr>\n",
       "    <tr>\n",
       "      <th>Alfred Village</th>\n",
       "      <td>4089</td>\n",
       "      <td>5</td>\n",
       "      <td>0</td>\n",
       "      <td>0</td>\n",
       "      <td>3</td>\n",
       "      <td>2</td>\n",
       "      <td>46</td>\n",
       "      <td>10</td>\n",
       "      <td>36</td>\n",
       "      <td>0</td>\n",
       "    </tr>\n",
       "    <tr>\n",
       "      <th>Allegany Village</th>\n",
       "      <td>1781</td>\n",
       "      <td>3</td>\n",
       "      <td>0</td>\n",
       "      <td>0</td>\n",
       "      <td>0</td>\n",
       "      <td>3</td>\n",
       "      <td>10</td>\n",
       "      <td>0</td>\n",
       "      <td>10</td>\n",
       "      <td>0</td>\n",
       "    </tr>\n",
       "    <tr>\n",
       "      <th>Amherst Town</th>\n",
       "      <td>118296</td>\n",
       "      <td>107</td>\n",
       "      <td>1</td>\n",
       "      <td>7</td>\n",
       "      <td>31</td>\n",
       "      <td>68</td>\n",
       "      <td>2118</td>\n",
       "      <td>204</td>\n",
       "      <td>1882</td>\n",
       "      <td>32</td>\n",
       "    </tr>\n",
       "    <tr>\n",
       "      <th>Amityville Village</th>\n",
       "      <td>9519</td>\n",
       "      <td>9</td>\n",
       "      <td>0</td>\n",
       "      <td>2</td>\n",
       "      <td>4</td>\n",
       "      <td>3</td>\n",
       "      <td>210</td>\n",
       "      <td>16</td>\n",
       "      <td>188</td>\n",
       "      <td>6</td>\n",
       "    </tr>\n",
       "    <tr>\n",
       "      <th>Amsterdam</th>\n",
       "      <td>18182</td>\n",
       "      <td>30</td>\n",
       "      <td>0</td>\n",
       "      <td>0</td>\n",
       "      <td>12</td>\n",
       "      <td>18</td>\n",
       "      <td>405</td>\n",
       "      <td>99</td>\n",
       "      <td>291</td>\n",
       "      <td>15</td>\n",
       "    </tr>\n",
       "  </tbody>\n",
       "</table>\n",
       "</div>"
      ],
      "text/plain": [
       "                          Population  Violent_crime  Murder  Rape_2  Robbery  \\\n",
       "City                                                                           \n",
       "Adams Village                   1861              0       0       0        0   \n",
       "Addison Town and Village        2577              3       0       0        0   \n",
       "Akron Village                   2846              3       0       0        0   \n",
       "Albany                         97956            791       8      30      227   \n",
       "Albion Village                  6388             23       0       3        4   \n",
       "Alfred Village                  4089              5       0       0        3   \n",
       "Allegany Village                1781              3       0       0        0   \n",
       "Amherst Town                  118296            107       1       7       31   \n",
       "Amityville Village              9519              9       0       2        4   \n",
       "Amsterdam                      18182             30       0       0       12   \n",
       "\n",
       "                          Aggravated_assault  Property_crime  Burglary  \\\n",
       "City                                                                     \n",
       "Adams Village                              0              12         2   \n",
       "Addison Town and Village                   3              24         3   \n",
       "Akron Village                              3              16         1   \n",
       "Albany                                   526            4090       705   \n",
       "Albion Village                            16             223        53   \n",
       "Alfred Village                             2              46        10   \n",
       "Allegany Village                           3              10         0   \n",
       "Amherst Town                              68            2118       204   \n",
       "Amityville Village                         3             210        16   \n",
       "Amsterdam                                 18             405        99   \n",
       "\n",
       "                          Larceny_theft  Motor_vehicle_theft  \n",
       "City                                                          \n",
       "Adams Village                        10                    0  \n",
       "Addison Town and Village             20                    1  \n",
       "Akron Village                        15                    0  \n",
       "Albany                             3243                  142  \n",
       "Albion Village                      165                    5  \n",
       "Alfred Village                       36                    0  \n",
       "Allegany Village                     10                    0  \n",
       "Amherst Town                       1882                   32  \n",
       "Amityville Village                  188                    6  \n",
       "Amsterdam                           291                   15  "
      ]
     },
     "execution_count": 55,
     "metadata": {},
     "output_type": "execute_result"
    }
   ],
   "source": [
    "df_2 = pd.read_csv('table_8_offenses_known_to_law_enforcement_new_york_by_city_2013.csv', \n",
    "                 index_col='City',\n",
    "                 names=['City', 'Population', 'Violent_crime', 'Murder', 'Rape_1', 'Rape_2',\n",
    "                       'Robbery', 'Aggravated_assault', 'Property_crime', 'Burglary',\n",
    "                       'Larceny_theft', 'Motor_vehicle_theft', 'Arson']\n",
    "                )\n",
    "\n",
    "df_2 = df_2.drop(index='City')\n",
    "\n",
    "# Remove commas\n",
    "df_2.Population = df_2.Population.str.replace(',', '')\n",
    "df_2.Violent_crime = df_2.Violent_crime.str.replace(',', '')\n",
    "df_2.Murder = df_2.Murder.str.replace(',', '')\n",
    "df_2.Rape_1 = df_2.Rape_1.str.replace(',', '')\n",
    "df_2.Rape_2 = df_2.Rape_2.str.replace(',', '')\n",
    "df_2.Robbery = df_2.Robbery.str.replace(',', '')\n",
    "df_2.Aggravated_assault = df_2.Aggravated_assault.str.replace(',', '')\n",
    "df_2.Property_crime = df_2.Property_crime.str.replace(',', '')\n",
    "df_2.Burglary = df_2.Burglary.str.replace(',', '')\n",
    "df_2.Larceny_theft = df_2.Larceny_theft.str.replace(',', '')\n",
    "df_2.Motor_vehicle_theft = df_2.Motor_vehicle_theft.str.replace(',', '')\n",
    "df_2.Arson = df_2.Arson.str.replace(',', '')\n",
    "\n",
    "# Force to be numbers\n",
    "df_2.Population = pd.to_numeric(df_2.Population, errors='coerce')\n",
    "df_2.Violent_crime = pd.to_numeric(df_2.Violent_crime, errors='coerce')\n",
    "df_2.Murder = pd.to_numeric(df_2.Murder, errors='coerce')\n",
    "df_2.Rape_1 = pd.to_numeric(df_2.Rape_1, errors='coerce')\n",
    "df_2.Rape_2 = pd.to_numeric(df_2.Rape_2, errors='coerce')\n",
    "df_2.Robbery = pd.to_numeric(df_2.Robbery, errors='coerce')\n",
    "df_2.Aggravated_assault = pd.to_numeric(df_2.Aggravated_assault, errors='coerce')\n",
    "df_2.Property_crime = pd.to_numeric(df_2.Property_crime, errors='coerce')\n",
    "df_2.Burglary = pd.to_numeric(df_2.Burglary, errors='coerce')\n",
    "df_2.Larceny_theft = pd.to_numeric(df_2.Larceny_theft, errors='coerce')\n",
    "df_2.Motor_vehicle_theft = pd.to_numeric(df_2.Motor_vehicle_theft, errors='coerce')\n",
    "df_2.Arson = pd.to_numeric(df_2.Arson, errors='coerce')\n",
    "\n",
    "# Remove Rape 1 and Arson due to so many NaN values making them hard to create features out of\n",
    "df_2 = df_2.dropna(axis=1, how='any')\n",
    "\n",
    "df_2.head(10)"
   ]
  },
  {
   "cell_type": "markdown",
   "metadata": {},
   "source": [
    "I am going to drop New York again. As I previously saw with population compared to property crimes, its values are so inflated that it has an outsized affect on the correlation. Let's remove it quickly and then check descriptive statistics for each variable."
   ]
  },
  {
   "cell_type": "code",
   "execution_count": 57,
   "metadata": {},
   "outputs": [
    {
     "data": {
      "text/html": [
       "<div>\n",
       "<style scoped>\n",
       "    .dataframe tbody tr th:only-of-type {\n",
       "        vertical-align: middle;\n",
       "    }\n",
       "\n",
       "    .dataframe tbody tr th {\n",
       "        vertical-align: top;\n",
       "    }\n",
       "\n",
       "    .dataframe thead th {\n",
       "        text-align: right;\n",
       "    }\n",
       "</style>\n",
       "<table border=\"1\" class=\"dataframe\">\n",
       "  <thead>\n",
       "    <tr style=\"text-align: right;\">\n",
       "      <th></th>\n",
       "      <th>Population</th>\n",
       "      <th>Violent_crime</th>\n",
       "      <th>Murder</th>\n",
       "      <th>Rape_2</th>\n",
       "      <th>Robbery</th>\n",
       "      <th>Aggravated_assault</th>\n",
       "      <th>Property_crime</th>\n",
       "      <th>Burglary</th>\n",
       "      <th>Larceny_theft</th>\n",
       "      <th>Motor_vehicle_theft</th>\n",
       "    </tr>\n",
       "  </thead>\n",
       "  <tbody>\n",
       "    <tr>\n",
       "      <th>count</th>\n",
       "      <td>347.000000</td>\n",
       "      <td>347.000000</td>\n",
       "      <td>347.000000</td>\n",
       "      <td>347.000000</td>\n",
       "      <td>347.000000</td>\n",
       "      <td>347.000000</td>\n",
       "      <td>347.000000</td>\n",
       "      <td>347.000000</td>\n",
       "      <td>347.000000</td>\n",
       "      <td>347.000000</td>\n",
       "    </tr>\n",
       "    <tr>\n",
       "      <th>mean</th>\n",
       "      <td>15956.685879</td>\n",
       "      <td>51.213256</td>\n",
       "      <td>0.605187</td>\n",
       "      <td>2.677233</td>\n",
       "      <td>17.867435</td>\n",
       "      <td>30.063401</td>\n",
       "      <td>385.752161</td>\n",
       "      <td>72.172911</td>\n",
       "      <td>298.994236</td>\n",
       "      <td>14.585014</td>\n",
       "    </tr>\n",
       "    <tr>\n",
       "      <th>std</th>\n",
       "      <td>27080.218837</td>\n",
       "      <td>236.667435</td>\n",
       "      <td>3.707090</td>\n",
       "      <td>10.741020</td>\n",
       "      <td>94.972492</td>\n",
       "      <td>128.783376</td>\n",
       "      <td>1034.369072</td>\n",
       "      <td>264.941381</td>\n",
       "      <td>715.232296</td>\n",
       "      <td>67.682236</td>\n",
       "    </tr>\n",
       "    <tr>\n",
       "      <th>min</th>\n",
       "      <td>526.000000</td>\n",
       "      <td>0.000000</td>\n",
       "      <td>0.000000</td>\n",
       "      <td>0.000000</td>\n",
       "      <td>0.000000</td>\n",
       "      <td>0.000000</td>\n",
       "      <td>0.000000</td>\n",
       "      <td>0.000000</td>\n",
       "      <td>0.000000</td>\n",
       "      <td>0.000000</td>\n",
       "    </tr>\n",
       "    <tr>\n",
       "      <th>25%</th>\n",
       "      <td>2997.000000</td>\n",
       "      <td>2.000000</td>\n",
       "      <td>0.000000</td>\n",
       "      <td>0.000000</td>\n",
       "      <td>0.000000</td>\n",
       "      <td>1.000000</td>\n",
       "      <td>40.000000</td>\n",
       "      <td>6.000000</td>\n",
       "      <td>31.000000</td>\n",
       "      <td>0.000000</td>\n",
       "    </tr>\n",
       "    <tr>\n",
       "      <th>50%</th>\n",
       "      <td>7187.000000</td>\n",
       "      <td>6.000000</td>\n",
       "      <td>0.000000</td>\n",
       "      <td>0.000000</td>\n",
       "      <td>1.000000</td>\n",
       "      <td>4.000000</td>\n",
       "      <td>112.000000</td>\n",
       "      <td>17.000000</td>\n",
       "      <td>94.000000</td>\n",
       "      <td>2.000000</td>\n",
       "    </tr>\n",
       "    <tr>\n",
       "      <th>75%</th>\n",
       "      <td>18160.500000</td>\n",
       "      <td>21.500000</td>\n",
       "      <td>0.000000</td>\n",
       "      <td>2.000000</td>\n",
       "      <td>5.000000</td>\n",
       "      <td>14.000000</td>\n",
       "      <td>340.500000</td>\n",
       "      <td>51.000000</td>\n",
       "      <td>284.500000</td>\n",
       "      <td>7.000000</td>\n",
       "    </tr>\n",
       "    <tr>\n",
       "      <th>max</th>\n",
       "      <td>258789.000000</td>\n",
       "      <td>3249.000000</td>\n",
       "      <td>47.000000</td>\n",
       "      <td>145.000000</td>\n",
       "      <td>1322.000000</td>\n",
       "      <td>1735.000000</td>\n",
       "      <td>12491.000000</td>\n",
       "      <td>3458.000000</td>\n",
       "      <td>8076.000000</td>\n",
       "      <td>957.000000</td>\n",
       "    </tr>\n",
       "  </tbody>\n",
       "</table>\n",
       "</div>"
      ],
      "text/plain": [
       "          Population  Violent_crime      Murder      Rape_2      Robbery  \\\n",
       "count     347.000000     347.000000  347.000000  347.000000   347.000000   \n",
       "mean    15956.685879      51.213256    0.605187    2.677233    17.867435   \n",
       "std     27080.218837     236.667435    3.707090   10.741020    94.972492   \n",
       "min       526.000000       0.000000    0.000000    0.000000     0.000000   \n",
       "25%      2997.000000       2.000000    0.000000    0.000000     0.000000   \n",
       "50%      7187.000000       6.000000    0.000000    0.000000     1.000000   \n",
       "75%     18160.500000      21.500000    0.000000    2.000000     5.000000   \n",
       "max    258789.000000    3249.000000   47.000000  145.000000  1322.000000   \n",
       "\n",
       "       Aggravated_assault  Property_crime     Burglary  Larceny_theft  \\\n",
       "count          347.000000      347.000000   347.000000     347.000000   \n",
       "mean            30.063401      385.752161    72.172911     298.994236   \n",
       "std            128.783376     1034.369072   264.941381     715.232296   \n",
       "min              0.000000        0.000000     0.000000       0.000000   \n",
       "25%              1.000000       40.000000     6.000000      31.000000   \n",
       "50%              4.000000      112.000000    17.000000      94.000000   \n",
       "75%             14.000000      340.500000    51.000000     284.500000   \n",
       "max           1735.000000    12491.000000  3458.000000    8076.000000   \n",
       "\n",
       "       Motor_vehicle_theft  \n",
       "count           347.000000  \n",
       "mean             14.585014  \n",
       "std              67.682236  \n",
       "min               0.000000  \n",
       "25%               0.000000  \n",
       "50%               2.000000  \n",
       "75%               7.000000  \n",
       "max             957.000000  "
      ]
     },
     "execution_count": 57,
     "metadata": {},
     "output_type": "execute_result"
    }
   ],
   "source": [
    "df_2 = df_2.drop(index='New York')\n",
    "\n",
    "df_2.describe()"
   ]
  },
  {
   "cell_type": "markdown",
   "metadata": {},
   "source": [
    "I want to scale all of the features to the same scale. I will do that with the sklearn preprocessing package. I will check the descriptive statistics again after scaling."
   ]
  },
  {
   "cell_type": "code",
   "execution_count": 59,
   "metadata": {},
   "outputs": [
    {
     "name": "stderr",
     "output_type": "stream",
     "text": [
      "c:\\users\\ross last\\appdata\\local\\programs\\python\\python37-32\\lib\\site-packages\\ipykernel_launcher.py:3: DataConversionWarning: Data with input dtype int64 were all converted to float64 by the scale function.\n",
      "  This is separate from the ipykernel package so we can avoid doing imports until\n"
     ]
    },
    {
     "data": {
      "text/html": [
       "<div>\n",
       "<style scoped>\n",
       "    .dataframe tbody tr th:only-of-type {\n",
       "        vertical-align: middle;\n",
       "    }\n",
       "\n",
       "    .dataframe tbody tr th {\n",
       "        vertical-align: top;\n",
       "    }\n",
       "\n",
       "    .dataframe thead th {\n",
       "        text-align: right;\n",
       "    }\n",
       "</style>\n",
       "<table border=\"1\" class=\"dataframe\">\n",
       "  <thead>\n",
       "    <tr style=\"text-align: right;\">\n",
       "      <th></th>\n",
       "      <th>Population</th>\n",
       "      <th>Violent_crime</th>\n",
       "      <th>Murder</th>\n",
       "      <th>Rape_2</th>\n",
       "      <th>Robbery</th>\n",
       "      <th>Aggravated_assault</th>\n",
       "      <th>Property_crime</th>\n",
       "      <th>Burglary</th>\n",
       "      <th>Larceny_theft</th>\n",
       "      <th>Motor_vehicle_theft</th>\n",
       "    </tr>\n",
       "  </thead>\n",
       "  <tbody>\n",
       "    <tr>\n",
       "      <th>count</th>\n",
       "      <td>3.470000e+02</td>\n",
       "      <td>3.470000e+02</td>\n",
       "      <td>347.000000</td>\n",
       "      <td>3.470000e+02</td>\n",
       "      <td>3.470000e+02</td>\n",
       "      <td>3.470000e+02</td>\n",
       "      <td>3.470000e+02</td>\n",
       "      <td>3.470000e+02</td>\n",
       "      <td>347.000000</td>\n",
       "      <td>3.470000e+02</td>\n",
       "    </tr>\n",
       "    <tr>\n",
       "      <th>mean</th>\n",
       "      <td>-2.047674e-17</td>\n",
       "      <td>-2.047674e-17</td>\n",
       "      <td>0.000000</td>\n",
       "      <td>-5.119184e-18</td>\n",
       "      <td>2.559592e-17</td>\n",
       "      <td>-5.119184e-18</td>\n",
       "      <td>3.583429e-17</td>\n",
       "      <td>1.535755e-17</td>\n",
       "      <td>0.000000</td>\n",
       "      <td>1.023837e-17</td>\n",
       "    </tr>\n",
       "    <tr>\n",
       "      <th>std</th>\n",
       "      <td>1.001444e+00</td>\n",
       "      <td>1.001444e+00</td>\n",
       "      <td>1.001444</td>\n",
       "      <td>1.001444e+00</td>\n",
       "      <td>1.001444e+00</td>\n",
       "      <td>1.001444e+00</td>\n",
       "      <td>1.001444e+00</td>\n",
       "      <td>1.001444e+00</td>\n",
       "      <td>1.001444</td>\n",
       "      <td>1.001444e+00</td>\n",
       "    </tr>\n",
       "    <tr>\n",
       "      <th>min</th>\n",
       "      <td>-5.706368e-01</td>\n",
       "      <td>-2.167058e-01</td>\n",
       "      <td>-0.163487</td>\n",
       "      <td>-2.496131e-01</td>\n",
       "      <td>-1.884044e-01</td>\n",
       "      <td>-2.337787e-01</td>\n",
       "      <td>-3.734733e-01</td>\n",
       "      <td>-2.728042e-01</td>\n",
       "      <td>-0.418642</td>\n",
       "      <td>-2.158037e-01</td>\n",
       "    </tr>\n",
       "    <tr>\n",
       "      <th>25%</th>\n",
       "      <td>-4.792576e-01</td>\n",
       "      <td>-2.082429e-01</td>\n",
       "      <td>-0.163487</td>\n",
       "      <td>-2.496131e-01</td>\n",
       "      <td>-1.884044e-01</td>\n",
       "      <td>-2.260025e-01</td>\n",
       "      <td>-3.347465e-01</td>\n",
       "      <td>-2.501250e-01</td>\n",
       "      <td>-0.375236</td>\n",
       "      <td>-2.158037e-01</td>\n",
       "    </tr>\n",
       "    <tr>\n",
       "      <th>50%</th>\n",
       "      <td>-3.243087e-01</td>\n",
       "      <td>-1.913172e-01</td>\n",
       "      <td>-0.163487</td>\n",
       "      <td>-2.496131e-01</td>\n",
       "      <td>-1.778598e-01</td>\n",
       "      <td>-2.026740e-01</td>\n",
       "      <td>-2.650383e-01</td>\n",
       "      <td>-2.085464e-01</td>\n",
       "      <td>-0.287026</td>\n",
       "      <td>-1.862112e-01</td>\n",
       "    </tr>\n",
       "    <tr>\n",
       "      <th>75%</th>\n",
       "      <td>8.149847e-02</td>\n",
       "      <td>-1.257299e-01</td>\n",
       "      <td>-0.163487</td>\n",
       "      <td>-6.314218e-02</td>\n",
       "      <td>-1.356816e-01</td>\n",
       "      <td>-1.249121e-01</td>\n",
       "      <td>-4.381174e-02</td>\n",
       "      <td>-8.003086e-02</td>\n",
       "      <td>-0.020294</td>\n",
       "      <td>-1.122299e-01</td>\n",
       "    </tr>\n",
       "    <tr>\n",
       "      <th>max</th>\n",
       "      <td>8.980096e+00</td>\n",
       "      <td>1.353124e+01</td>\n",
       "      <td>12.533229</td>\n",
       "      <td>1.326953e+01</td>\n",
       "      <td>1.375152e+01</td>\n",
       "      <td>1.325791e+01</td>\n",
       "      <td>1.171993e+01</td>\n",
       "      <td>1.279799e+01</td>\n",
       "      <td>10.889100</td>\n",
       "      <td>1.394422e+01</td>\n",
       "    </tr>\n",
       "  </tbody>\n",
       "</table>\n",
       "</div>"
      ],
      "text/plain": [
       "         Population  Violent_crime      Murder        Rape_2       Robbery  \\\n",
       "count  3.470000e+02   3.470000e+02  347.000000  3.470000e+02  3.470000e+02   \n",
       "mean  -2.047674e-17  -2.047674e-17    0.000000 -5.119184e-18  2.559592e-17   \n",
       "std    1.001444e+00   1.001444e+00    1.001444  1.001444e+00  1.001444e+00   \n",
       "min   -5.706368e-01  -2.167058e-01   -0.163487 -2.496131e-01 -1.884044e-01   \n",
       "25%   -4.792576e-01  -2.082429e-01   -0.163487 -2.496131e-01 -1.884044e-01   \n",
       "50%   -3.243087e-01  -1.913172e-01   -0.163487 -2.496131e-01 -1.778598e-01   \n",
       "75%    8.149847e-02  -1.257299e-01   -0.163487 -6.314218e-02 -1.356816e-01   \n",
       "max    8.980096e+00   1.353124e+01   12.533229  1.326953e+01  1.375152e+01   \n",
       "\n",
       "       Aggravated_assault  Property_crime      Burglary  Larceny_theft  \\\n",
       "count        3.470000e+02    3.470000e+02  3.470000e+02     347.000000   \n",
       "mean        -5.119184e-18    3.583429e-17  1.535755e-17       0.000000   \n",
       "std          1.001444e+00    1.001444e+00  1.001444e+00       1.001444   \n",
       "min         -2.337787e-01   -3.734733e-01 -2.728042e-01      -0.418642   \n",
       "25%         -2.260025e-01   -3.347465e-01 -2.501250e-01      -0.375236   \n",
       "50%         -2.026740e-01   -2.650383e-01 -2.085464e-01      -0.287026   \n",
       "75%         -1.249121e-01   -4.381174e-02 -8.003086e-02      -0.020294   \n",
       "max          1.325791e+01    1.171993e+01  1.279799e+01      10.889100   \n",
       "\n",
       "       Motor_vehicle_theft  \n",
       "count         3.470000e+02  \n",
       "mean          1.023837e-17  \n",
       "std           1.001444e+00  \n",
       "min          -2.158037e-01  \n",
       "25%          -2.158037e-01  \n",
       "50%          -1.862112e-01  \n",
       "75%          -1.122299e-01  \n",
       "max           1.394422e+01  "
      ]
     },
     "execution_count": 59,
     "metadata": {},
     "output_type": "execute_result"
    }
   ],
   "source": [
    "names=df_2.columns\n",
    "\n",
    "df_2_scaled = pd.DataFrame(preprocessing.scale(df_2), columns=names)\n",
    "\n",
    "df_2_scaled.describe()"
   ]
  },
  {
   "cell_type": "markdown",
   "metadata": {},
   "source": [
    "I will do a correlaation map of the variables to look for any that are at first glance well correlated to property crime and any that are redundant to each other."
   ]
  },
  {
   "cell_type": "code",
   "execution_count": 60,
   "metadata": {},
   "outputs": [
    {
     "data": {
      "text/plain": [
       "<matplotlib.axes._subplots.AxesSubplot at 0x1baacd10>"
      ]
     },
     "execution_count": 60,
     "metadata": {},
     "output_type": "execute_result"
    },
    {
     "data": {
      "image/png": "[encoded data removed]",
      "text/plain": [
       "<Figure size 432x288 with 2 Axes>"
      ]
     },
     "metadata": {
      "needs_background": "light"
     },
     "output_type": "display_data"
    }
   ],
   "source": [
    "corrmat = df_2_scaled.corr()\n",
    "sns.heatmap(corrmat)"
   ]
  },
  {
   "cell_type": "markdown",
   "metadata": {},
   "source": [
    "I see some variables that are interesting for further analysis. I will do a series of line plots to check for relationship with property crime."
   ]
  },
  {
   "cell_type": "code",
   "execution_count": 61,
   "metadata": {},
   "outputs": [
    {
     "name": "stderr",
     "output_type": "stream",
     "text": [
      "c:\\users\\ross last\\appdata\\local\\programs\\python\\python37-32\\lib\\site-packages\\scipy\\stats\\stats.py:1713: FutureWarning: Using a non-tuple sequence for multidimensional indexing is deprecated; use `arr[tuple(seq)]` instead of `arr[seq]`. In the future this will be interpreted as an array index, `arr[np.array(seq)]`, which will result either in an error or a different result.\n",
      "  return np.add.reduce(sorted[indexer] * weights, axis=axis) / sumval\n"
     ]
    },
    {
     "data": {
      "text/plain": [
       "<seaborn.axisgrid.FacetGrid at 0x1db0d8d0>"
      ]
     },
     "execution_count": 61,
     "metadata": {},
     "output_type": "execute_result"
    },
    {
     "data": {
      "image/png": "[encoded data removed]",
      "text/plain": [
       "<Figure size 360x360 with 1 Axes>"
      ]
     },
     "metadata": {
      "needs_background": "light"
     },
     "output_type": "display_data"
    }
   ],
   "source": [
    "sns.lmplot(x='Larceny_theft', y='Property_crime', data=df_2_scaled)"
   ]
  },
  {
   "cell_type": "markdown",
   "metadata": {},
   "source": [
    "Thats a good looking line with a narrower confidence interval and the values very close to the line. I will keep that as a feature."
   ]
  },
  {
   "cell_type": "code",
   "execution_count": 62,
   "metadata": {},
   "outputs": [
    {
     "data": {
      "text/plain": [
       "<seaborn.axisgrid.FacetGrid at 0x1db634d0>"
      ]
     },
     "execution_count": 62,
     "metadata": {},
     "output_type": "execute_result"
    },
    {
     "data": {
      "image/png": "[encoded data removed]",
      "text/plain": [
       "<Figure size 360x360 with 1 Axes>"
      ]
     },
     "metadata": {
      "needs_background": "light"
     },
     "output_type": "display_data"
    }
   ],
   "source": [
    "sns.lmplot(x='Burglary', y='Property_crime', data=df_2_scaled)"
   ]
  },
  {
   "cell_type": "code",
   "execution_count": 63,
   "metadata": {},
   "outputs": [
    {
     "data": {
      "text/plain": [
       "<seaborn.axisgrid.FacetGrid at 0x1dc524b0>"
      ]
     },
     "execution_count": 63,
     "metadata": {},
     "output_type": "execute_result"
    },
    {
     "data": {
      "image/png": "[encoded data removed]",
      "text/plain": [
       "<Figure size 360x360 with 1 Axes>"
      ]
     },
     "metadata": {
      "needs_background": "light"
     },
     "output_type": "display_data"
    }
   ],
   "source": [
    "sns.lmplot(x='Rape_2', y='Property_crime', data=df_2_scaled)"
   ]
  },
  {
   "cell_type": "code",
   "execution_count": 64,
   "metadata": {},
   "outputs": [
    {
     "data": {
      "text/plain": [
       "<seaborn.axisgrid.FacetGrid at 0x1dc861b0>"
      ]
     },
     "execution_count": 64,
     "metadata": {},
     "output_type": "execute_result"
    },
    {
     "data": {
      "image/png": "[encoded data removed]",
      "text/plain": [
       "<Figure size 360x360 with 1 Axes>"
      ]
     },
     "metadata": {
      "needs_background": "light"
     },
     "output_type": "display_data"
    }
   ],
   "source": [
    "sns.lmplot(x='Population', y='Property_crime', data=df_2_scaled)"
   ]
  },
  {
   "cell_type": "code",
   "execution_count": 65,
   "metadata": {},
   "outputs": [
    {
     "data": {
      "text/plain": [
       "<seaborn.axisgrid.FacetGrid at 0x1bab4310>"
      ]
     },
     "execution_count": 65,
     "metadata": {},
     "output_type": "execute_result"
    },
    {
     "data": {
      "image/png": "[encoded data removed]",
      "text/plain": [
       "<Figure size 360x360 with 1 Axes>"
      ]
     },
     "metadata": {
      "needs_background": "light"
     },
     "output_type": "display_data"
    }
   ],
   "source": [
    "sns.lmplot(x='Violent_crime', y='Property_crime', data=df_2_scaled)"
   ]
  },
  {
   "cell_type": "code",
   "execution_count": 66,
   "metadata": {},
   "outputs": [
    {
     "data": {
      "text/plain": [
       "<seaborn.axisgrid.FacetGrid at 0x1dcf8db0>"
      ]
     },
     "execution_count": 66,
     "metadata": {},
     "output_type": "execute_result"
    },
    {
     "data": {
      "image/png": "[encoded data removed]",
      "text/plain": [
       "<Figure size 360x360 with 1 Axes>"
      ]
     },
     "metadata": {
      "needs_background": "light"
     },
     "output_type": "display_data"
    }
   ],
   "source": [
    "sns.lmplot(x='Murder', y='Property_crime', data=df_2_scaled)"
   ]
  },
  {
   "cell_type": "code",
   "execution_count": 67,
   "metadata": {},
   "outputs": [
    {
     "data": {
      "text/plain": [
       "<seaborn.axisgrid.FacetGrid at 0x1dcef4b0>"
      ]
     },
     "execution_count": 67,
     "metadata": {},
     "output_type": "execute_result"
    },
    {
     "data": {
      "image/png": "[encoded data removed]",
      "text/plain": [
       "<Figure size 360x360 with 1 Axes>"
      ]
     },
     "metadata": {
      "needs_background": "light"
     },
     "output_type": "display_data"
    }
   ],
   "source": [
    "sns.lmplot(x='Robbery', y='Property_crime', data=df_2_scaled)"
   ]
  },
  {
   "cell_type": "code",
   "execution_count": 69,
   "metadata": {},
   "outputs": [
    {
     "data": {
      "text/plain": [
       "<seaborn.axisgrid.FacetGrid at 0x1dd6f230>"
      ]
     },
     "execution_count": 69,
     "metadata": {},
     "output_type": "execute_result"
    },
    {
     "data": {
      "image/png": "[encoded data removed]",
      "text/plain": [
       "<Figure size 360x360 with 1 Axes>"
      ]
     },
     "metadata": {
      "needs_background": "light"
     },
     "output_type": "display_data"
    }
   ],
   "source": [
    "sns.lmplot(x='Motor_vehicle_theft', y='Property_crime', data=df_2_scaled)"
   ]
  },
  {
   "cell_type": "markdown",
   "metadata": {},
   "source": [
    "Based on my analysis of the graphs and charts, I am going to use Population, Larceny-theft, and Burglary, and Motor vehicle theft. "
   ]
  },
  {
   "cell_type": "code",
   "execution_count": 70,
   "metadata": {},
   "outputs": [
    {
     "name": "stdout",
     "output_type": "stream",
     "text": [
      "Coefficients: \n",
      " [-2.94571946e-15  6.91467209e-01  2.56138150e-01  6.54333525e-02]\n",
      "\n",
      "Intercept: \n",
      " 3.1230702143047356e-17\n",
      "\n",
      "R-squared:\n",
      "1.0\n"
     ]
    }
   ],
   "source": [
    "regr = linear_model.LinearRegression()\n",
    "Y_2 = df_2_scaled.Property_crime\n",
    "X_2 = df_2_scaled[['Population', 'Larceny_theft', 'Burglary', 'Motor_vehicle_theft']]\n",
    "regr.fit(X_2, Y_2)\n",
    "\n",
    "print('Coefficients: \\n', regr.coef_)\n",
    "print('\\nIntercept: \\n', regr.intercept_)\n",
    "print('\\nR-squared:')\n",
    "print(regr.score(X_2, Y_2))"
   ]
  },
  {
   "cell_type": "markdown",
   "metadata": {},
   "source": [
    "I have accomlished an $R^2$ of 1.0. This is actually not a great thing, since I am now worried about overfitting. I am going to remove Motor vehicle theft and Burglary as features to see if the $R^2$ gets to a better spot with only two features."
   ]
  },
  {
   "cell_type": "code",
   "execution_count": 75,
   "metadata": {},
   "outputs": [
    {
     "name": "stdout",
     "output_type": "stream",
     "text": [
      "Coefficients: \n",
      " [-0.04828853  1.03814826]\n",
      "\n",
      "Intercept: \n",
      " 3.484549627068366e-17\n",
      "\n",
      "R-squared:\n",
      "0.9897314893859629\n"
     ]
    }
   ],
   "source": [
    "regr = linear_model.LinearRegression()\n",
    "Y_2 = df_2_scaled.Property_crime\n",
    "X_2 = df_2_scaled[['Population', 'Larceny_theft']]\n",
    "regr.fit(X_2, Y_2)\n",
    "\n",
    "print('Coefficients: \\n', regr.coef_)\n",
    "print('\\nIntercept: \\n', regr.intercept_)\n",
    "print('\\nR-squared:')\n",
    "print(regr.score(X_2, Y_2))"
   ]
  },
  {
   "cell_type": "markdown",
   "metadata": {},
   "source": [
    "This is somewhat better. I am going to, check on the f-test statistic and p-values using the statsmodel version of linear regression, then run my holdout and cross validations to check on performance of this model."
   ]
  },
  {
   "cell_type": "code",
   "execution_count": 76,
   "metadata": {},
   "outputs": [
    {
     "name": "stdout",
     "output_type": "stream",
     "text": [
      "                            OLS Regression Results                            \n",
      "==============================================================================\n",
      "Dep. Variable:         Property_crime   R-squared:                       0.990\n",
      "Model:                            OLS   Adj. R-squared:                  0.990\n",
      "Method:                 Least Squares   F-statistic:                 1.658e+04\n",
      "Date:                Thu, 21 Mar 2019   Prob (F-statistic):               0.00\n",
      "Time:                        18:18:31   Log-Likelihood:                 302.03\n",
      "No. Observations:                 347   AIC:                            -598.1\n",
      "Df Residuals:                     344   BIC:                            -586.5\n",
      "Df Model:                           2                                         \n",
      "Covariance Type:            nonrobust                                         \n",
      "=================================================================================\n",
      "                    coef    std err          t      P>|t|      [0.025      0.975]\n",
      "---------------------------------------------------------------------------------\n",
      "Intercept      3.017e-17      0.005   5.52e-15      1.000      -0.011       0.011\n",
      "Population       -0.0483      0.013     -3.831      0.000      -0.073      -0.023\n",
      "Larceny_theft     1.0381      0.013     82.366      0.000       1.013       1.063\n",
      "==============================================================================\n",
      "Omnibus:                      112.353   Durbin-Watson:                   1.967\n",
      "Prob(Omnibus):                  0.000   Jarque-Bera (JB):             6417.126\n",
      "Skew:                          -0.370   Prob(JB):                         0.00\n",
      "Kurtosis:                      24.054   Cond. No.                         4.39\n",
      "==============================================================================\n",
      "\n",
      "Warnings:\n",
      "[1] Standard Errors assume that the covariance matrix of the errors is correctly specified.\n"
     ]
    }
   ],
   "source": [
    "linear_formula_2 = 'Property_crime ~ Population + Larceny_theft'\n",
    "\n",
    "lm_2 = smf.ols(formula=linear_formula_2, data=df_2_scaled).fit()\n",
    "print(lm_2.summary())"
   ]
  },
  {
   "cell_type": "code",
   "execution_count": 77,
   "metadata": {},
   "outputs": [
    {
     "name": "stdout",
     "output_type": "stream",
     "text": [
      "With 20% Holdout: 0.9600862669204927\n"
     ]
    }
   ],
   "source": [
    "from sklearn.model_selection import train_test_split\n",
    "\n",
    "X_train_2, X_test_2, Y_train_2, Y_test_2 = train_test_split(X_2, Y_2, test_size=0.2, random_state=20)\n",
    "print('With 20% Holdout: ' + str(regr.fit(X_train_2, Y_train_2).score(X_test_2, Y_test_2)))"
   ]
  },
  {
   "cell_type": "markdown",
   "metadata": {},
   "source": [
    "This is a good sign, still a great $R^2$. Let's do the cross validation."
   ]
  },
  {
   "cell_type": "code",
   "execution_count": 78,
   "metadata": {},
   "outputs": [
    {
     "data": {
      "text/plain": [
       "array([0.96927033, 0.98694463, 0.95959762, 0.95093152, 0.96480044,\n",
       "       0.9753538 , 0.97290458, 0.99767457, 0.99581406, 0.95893679])"
      ]
     },
     "execution_count": 78,
     "metadata": {},
     "output_type": "execute_result"
    }
   ],
   "source": [
    "from sklearn.model_selection import cross_val_score\n",
    "cross_val_score(regr, X_2, Y_2, cv=10)"
   ]
  },
  {
   "cell_type": "markdown",
   "metadata": {},
   "source": [
    "The model is performing great. The final test is to check it on completely new data from a different year."
   ]
  },
  {
   "cell_type": "code",
   "execution_count": 97,
   "metadata": {},
   "outputs": [
    {
     "data": {
      "text/html": [
       "<div>\n",
       "<style scoped>\n",
       "    .dataframe tbody tr th:only-of-type {\n",
       "        vertical-align: middle;\n",
       "    }\n",
       "\n",
       "    .dataframe tbody tr th {\n",
       "        vertical-align: top;\n",
       "    }\n",
       "\n",
       "    .dataframe thead th {\n",
       "        text-align: right;\n",
       "    }\n",
       "</style>\n",
       "<table border=\"1\" class=\"dataframe\">\n",
       "  <thead>\n",
       "    <tr style=\"text-align: right;\">\n",
       "      <th></th>\n",
       "      <th>Population</th>\n",
       "      <th>Larceny_theft</th>\n",
       "      <th>Property_crime</th>\n",
       "    </tr>\n",
       "    <tr>\n",
       "      <th>City</th>\n",
       "      <th></th>\n",
       "      <th></th>\n",
       "      <th></th>\n",
       "    </tr>\n",
       "  </thead>\n",
       "  <tbody>\n",
       "    <tr>\n",
       "      <th>Adams Village</th>\n",
       "      <td>1851.0</td>\n",
       "      <td>10.0</td>\n",
       "      <td>11.0</td>\n",
       "    </tr>\n",
       "    <tr>\n",
       "      <th>Addison Town and Village</th>\n",
       "      <td>2568.0</td>\n",
       "      <td>47.0</td>\n",
       "      <td>49.0</td>\n",
       "    </tr>\n",
       "    <tr>\n",
       "      <th>Afton Village4</th>\n",
       "      <td>820.0</td>\n",
       "      <td>1.0</td>\n",
       "      <td>1.0</td>\n",
       "    </tr>\n",
       "    <tr>\n",
       "      <th>Akron Village</th>\n",
       "      <td>2842.0</td>\n",
       "      <td>17.0</td>\n",
       "      <td>17.0</td>\n",
       "    </tr>\n",
       "    <tr>\n",
       "      <th>Albany4</th>\n",
       "      <td>98595.0</td>\n",
       "      <td>3083.0</td>\n",
       "      <td>3888.0</td>\n",
       "    </tr>\n",
       "  </tbody>\n",
       "</table>\n",
       "</div>"
      ],
      "text/plain": [
       "                          Population  Larceny_theft  Property_crime\n",
       "City                                                               \n",
       "Adams Village                 1851.0           10.0            11.0\n",
       "Addison Town and Village      2568.0           47.0            49.0\n",
       "Afton Village4                 820.0            1.0             1.0\n",
       "Akron Village                 2842.0           17.0            17.0\n",
       "Albany4                      98595.0         3083.0          3888.0"
      ]
     },
     "execution_count": 97,
     "metadata": {},
     "output_type": "execute_result"
    }
   ],
   "source": [
    "# Create new df with data from new year. Clean as previously, but only the inputs for predicting in the model\n",
    "df_3 = pd.read_csv('New_York_by_City_2014.csv',\n",
    "                  index_col='City',\n",
    "                   names=['City', 'Population', 'Violent_crime', 'Murder', 'Rape_1', 'Rape_2',\n",
    "                       'Robbery', 'Aggravated_assault', 'Property_crime', 'Burglary',\n",
    "                       'Larceny_theft', 'Motor_vehicle_theft', 'Arson']\n",
    "                  )\n",
    "\n",
    "df_3 = df_3.drop(index='City')\n",
    "\n",
    "# Remove commas\n",
    "df_3.Population = df_3.Population.str.replace(',', '')\n",
    "df_3.Larceny_theft = df_3.Larceny_theft.str.replace(',', '')\n",
    "df_3.Property_crime = df_3.Property_crime.str.replace(',', '')\n",
    "\n",
    "# Force to be numbers\n",
    "df_3.Population = pd.to_numeric(df_3.Population, errors='coerce')\n",
    "df_3.Larceny_theft = pd.to_numeric(df_3.Larceny_theft, errors='coerce')\n",
    "df_3.Property_crime = pd.to_numeric(df_3.Property_crime, errors='coerce')\n",
    "\n",
    "df_3 = df_3.drop(index='New York4')\n",
    "\n",
    "# Make data only needed inputs\n",
    "df_3 = df_3[['Population', 'Larceny_theft', 'Property_crime']]\n",
    "\n",
    "# Drop cities with NaN\n",
    "df_3 = df_3.dropna(axis=0, how='any')\n",
    "\n",
    "df_3.head()"
   ]
  },
  {
   "cell_type": "code",
   "execution_count": 98,
   "metadata": {},
   "outputs": [
    {
     "name": "stdout",
     "output_type": "stream",
     "text": [
      "Model performance With New Year Data: -2.1421001938800344\n"
     ]
    }
   ],
   "source": [
    "Y_new = df_3.Property_crime\n",
    "X_new = df_3[['Population', 'Larceny_theft']]\n",
    "\n",
    "print('Model performance With New Year Data: ' + str(regr.fit(X_2, Y_2).score(X_new, Y_new)))"
   ]
  },
  {
   "cell_type": "markdown",
   "metadata": {},
   "source": [
    "This is a disappointing result. \n",
    "\n",
    "JOSE- Can you help me figure out what I can do to make my features better so that I can have a model that works on new data? I've been going at this one for awhile. But I want to rework it so that I can get to the point where I have a good result when scoring on new data."
   ]
  }
 ],
 "metadata": {
  "kernelspec": {
   "display_name": "Python 3",
   "language": "python",
   "name": "python3"
  },
  "language_info": {
   "codemirror_mode": {
    "name": "ipython",
    "version": 3
   },
   "file_extension": ".py",
   "mimetype": "text/x-python",
   "name": "python",
   "nbconvert_exporter": "python",
   "pygments_lexer": "ipython3",
   "version": "3.7.1"
  }
 },
 "nbformat": 4,
 "nbformat_minor": 2
}
